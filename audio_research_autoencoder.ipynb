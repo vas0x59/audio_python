{
  "nbformat": 4,
  "nbformat_minor": 0,
  "metadata": {
    "accelerator": "GPU",
    "colab": {
      "name": "audio_research_autoencoder.ipynb",
      "version": "0.3.2",
      "provenance": [],
      "collapsed_sections": [],
      "include_colab_link": true
    },
    "kernelspec": {
      "display_name": "Python 3",
      "language": "python",
      "name": "python3"
    },
    "language_info": {
      "codemirror_mode": {
        "name": "ipython",
        "version": 3
      },
      "file_extension": ".py",
      "mimetype": "text/x-python",
      "name": "python",
      "nbconvert_exporter": "python",
      "pygments_lexer": "ipython3",
      "version": "3.7.3"
    }
  },
  "cells": [
    {
      "cell_type": "markdown",
      "metadata": {
        "id": "view-in-github",
        "colab_type": "text"
      },
      "source": [
        "<a href=\"https://colab.research.google.com/github/vas59/audio_python/blob/master/audio_research_autoencoder.ipynb\" target=\"_parent\"><img src=\"https://colab.research.google.com/assets/colab-badge.svg\" alt=\"Open In Colab\"/></a>"
      ]
    },
    {
      "cell_type": "code",
      "metadata": {
        "colab_type": "code",
        "id": "ewLlQoPINEz1",
        "colab": {}
      },
      "source": [
        "import numpy as np\n",
        "import pandas as pd\n",
        "import cv2\n",
        "import matplotlib.pyplot as plt\n"
      ],
      "execution_count": 0,
      "outputs": []
    },
    {
      "cell_type": "code",
      "metadata": {
        "colab_type": "code",
        "id": "Q4ykxi5cOFUK",
        "outputId": "1a543ee1-ddba-484c-b643-16869d0eeda3",
        "colab": {
          "base_uri": "https://localhost:8080/",
          "height": 34
        }
      },
      "source": [
        "from imutils import paths\n",
        "from keras.preprocessing.image import img_to_array\n",
        "import random"
      ],
      "execution_count": 5,
      "outputs": [
        {
          "output_type": "stream",
          "text": [
            "Using TensorFlow backend.\n"
          ],
          "name": "stderr"
        }
      ]
    },
    {
      "cell_type": "code",
      "metadata": {
        "id": "Y-JBuH5zPKEq",
        "colab_type": "code",
        "colab": {
          "base_uri": "https://localhost:8080/",
          "height": 121
        },
        "outputId": "4fa0e6ea-741c-4e53-d62a-9a1dc94a881b"
      },
      "source": [
        "!rm -rf audio_dataset\n",
        "!git clone https://github.com/vas59/audio_dataset.git"
      ],
      "execution_count": 2,
      "outputs": [
        {
          "output_type": "stream",
          "text": [
            "Cloning into 'audio_dataset'...\n",
            "remote: Enumerating objects: 65009, done.\u001b[K\n",
            "remote: Total 65009 (delta 0), reused 0 (delta 0), pack-reused 65009\u001b[K\n",
            "Receiving objects: 100% (65009/65009), 525.78 MiB | 23.93 MiB/s, done.\n",
            "Resolving deltas: 100% (199/199), done.\n",
            "Checking out files: 100% (64986/64986), done.\n"
          ],
          "name": "stdout"
        }
      ]
    },
    {
      "cell_type": "code",
      "metadata": {
        "colab_type": "code",
        "id": "8_pEysE3N0Tq",
        "colab": {}
      },
      "source": [
        "imagePaths = sorted(list(paths.list_images(\"audio_dataset/images_out\")))\n"
      ],
      "execution_count": 0,
      "outputs": []
    },
    {
      "cell_type": "code",
      "metadata": {
        "colab_type": "code",
        "id": "eaW-HGWnN9_q",
        "colab": {}
      },
      "source": [
        "random.seed(42)\n",
        "random.shuffle(imagePaths)"
      ],
      "execution_count": 0,
      "outputs": []
    },
    {
      "cell_type": "code",
      "metadata": {
        "colab_type": "code",
        "id": "pMytDzDhNOdG",
        "colab": {}
      },
      "source": [
        "data = []\n",
        "for imagePath in imagePaths:\n",
        "    image = cv2.imread(imagePath, 1)\n",
        "    image = cv2.cvtColor(image, cv2.COLOR_BGR2GRAY)\n",
        "    image = cv2.resize(image, (64, 64))/255.0\n",
        "    data.append(image)\n",
        "\n",
        "data = np.array(data)"
      ],
      "execution_count": 0,
      "outputs": []
    },
    {
      "cell_type": "code",
      "metadata": {
        "colab_type": "code",
        "id": "scw9oG79HKcC",
        "colab": {}
      },
      "source": [
        "\n",
        "# for i in data:\n",
        "q = np.array([w.mean() for w in data]  )"
      ],
      "execution_count": 0,
      "outputs": []
    },
    {
      "cell_type": "code",
      "metadata": {
        "colab_type": "code",
        "id": "VliLPAwFHXgl",
        "outputId": "413e1f9e-5eb8-4274-d93e-8082e67c6b64",
        "colab": {
          "base_uri": "https://localhost:8080/",
          "height": 52
        }
      },
      "source": [
        "q"
      ],
      "execution_count": 10,
      "outputs": [
        {
          "output_type": "execute_result",
          "data": {
            "text/plain": [
              "array([0.11285424, 0.12516468, 0.06752164, ..., 0.12528244, 0.16223863,\n",
              "       0.00860811])"
            ]
          },
          "metadata": {
            "tags": []
          },
          "execution_count": 10
        }
      ]
    },
    {
      "cell_type": "code",
      "metadata": {
        "colab_type": "code",
        "id": "uZ-7Pmm4lJhz",
        "colab": {}
      },
      "source": [
        "import os\n",
        "labels = []\n",
        "for imagePath in imagePaths:\n",
        "    label = imagePath.split(os.path.sep)[-2]\n",
        "    labels.append(label)\n",
        "labels = np.array(labels)"
      ],
      "execution_count": 0,
      "outputs": []
    },
    {
      "cell_type": "code",
      "metadata": {
        "colab_type": "code",
        "id": "pc5AGG2ClZC5",
        "outputId": "20cb2e7e-6f1a-4936-f3c3-e564600452ff",
        "colab": {
          "base_uri": "https://localhost:8080/",
          "height": 34
        }
      },
      "source": [
        "labels2 = labels[q > 0.0015]\n",
        "data2 = data[q > 0.0015]\n",
        "data2.shape"
      ],
      "execution_count": 17,
      "outputs": [
        {
          "output_type": "execute_result",
          "data": {
            "text/plain": [
              "(50735, 64, 64)"
            ]
          },
          "metadata": {
            "tags": []
          },
          "execution_count": 17
        }
      ]
    },
    {
      "cell_type": "code",
      "metadata": {
        "colab_type": "code",
        "id": "tglb-WQqJco6",
        "colab": {}
      },
      "source": [
        "data = data2\n",
        "labels = labels2"
      ],
      "execution_count": 0,
      "outputs": []
    },
    {
      "cell_type": "code",
      "metadata": {
        "colab_type": "code",
        "id": "Mq65uWhoI0NA",
        "outputId": "9f3057c9-8d63-42fd-daff-3a6de8708de7",
        "colab": {
          "base_uri": "https://localhost:8080/",
          "height": 34
        }
      },
      "source": [
        "q.shape"
      ],
      "execution_count": 19,
      "outputs": [
        {
          "output_type": "execute_result",
          "data": {
            "text/plain": [
              "(50818,)"
            ]
          },
          "metadata": {
            "tags": []
          },
          "execution_count": 19
        }
      ]
    },
    {
      "cell_type": "code",
      "metadata": {
        "colab_type": "code",
        "id": "kK9QWqpZLQPf",
        "colab": {}
      },
      "source": [
        "from keras.layers import Conv2D, Conv2DTranspose, Flatten, Input, Dense, Reshape\n",
        "from keras.layers.advanced_activations import LeakyReLU, PReLU\n",
        "\n",
        "from keras import Model"
      ],
      "execution_count": 0,
      "outputs": []
    },
    {
      "cell_type": "code",
      "metadata": {
        "colab_type": "code",
        "id": "wRlNgdN8LtlD",
        "colab": {
          "base_uri": "https://localhost:8080/",
          "height": 159
        },
        "outputId": "a51a1b9d-df37-44fd-ca0c-e5b4d0135264"
      },
      "source": [
        "#auto decoder\n",
        "input_ = Input((64, 64, 1)) \n",
        "\n",
        "x = Conv2D(filters=4, kernel_size=2, strides=2, activation='relu',padding='same')(input_) \n",
        "x = Conv2D(filters=6, kernel_size=2, strides=2, activation='relu',padding='same')(x)\n",
        "x = Conv2D(filters=8,kernel_size=2, strides=2, activation='relu',padding='same')(x) \n",
        "flat = Flatten()(x)\n",
        "latent = Dense(128,activation='relu')(flat)\n",
        "\n",
        "\n",
        "reshape = Reshape((-1,8,8)) \n",
        "dense = Dense(512,activation='relu')\n",
        "conv_2t_1 = Conv2DTranspose(filters=8, kernel_size=2, strides=2, activation='relu',padding='same') \n",
        "conv_2t_2 = Conv2DTranspose(filters=6, kernel_size=2, strides=2, activation='relu',padding='same') \n",
        "conv_2t_3 = Conv2DTranspose(filters=1, kernel_size=2, strides=2, activation='relu',padding='same') \n",
        " \n",
        "\n",
        "x = dense(latent)\n",
        "x = reshape(x)\n",
        "x = conv_2t_1(x)\n",
        "x = conv_2t_2(x)\n",
        "decoded = conv_2t_3(x) \n",
        "\n",
        "autoencoder = Model(input_, decoded)\n",
        "encoder = Model(input_, latent)\n",
        "\n",
        "decoder_input = Input((128,))\n",
        "x_ = dense(decoder_input)\n",
        "x_ = reshape(x_)\n",
        "x_ = conv_2t_1(x_)\n",
        "x_ = conv_2t_2(x_)\n",
        "decoded_ = conv_2t_3(x_) \n",
        "decoder = Model(decoder_input, decoded_)"
      ],
      "execution_count": 22,
      "outputs": [
        {
          "output_type": "stream",
          "text": [
            "WARNING: Logging before flag parsing goes to stderr.\n",
            "W0725 17:49:15.582165 139691602151296 deprecation_wrapper.py:119] From /usr/local/lib/python3.6/dist-packages/keras/backend/tensorflow_backend.py:74: The name tf.get_default_graph is deprecated. Please use tf.compat.v1.get_default_graph instead.\n",
            "\n",
            "W0725 17:49:15.625203 139691602151296 deprecation_wrapper.py:119] From /usr/local/lib/python3.6/dist-packages/keras/backend/tensorflow_backend.py:517: The name tf.placeholder is deprecated. Please use tf.compat.v1.placeholder instead.\n",
            "\n",
            "W0725 17:49:15.641515 139691602151296 deprecation_wrapper.py:119] From /usr/local/lib/python3.6/dist-packages/keras/backend/tensorflow_backend.py:4138: The name tf.random_uniform is deprecated. Please use tf.random.uniform instead.\n",
            "\n"
          ],
          "name": "stderr"
        }
      ]
    },
    {
      "cell_type": "code",
      "metadata": {
        "colab_type": "code",
        "id": "Z-kco0pDL64I",
        "outputId": "d260fbf7-57cd-47c8-d656-2d728ed7105d",
        "colab": {
          "base_uri": "https://localhost:8080/",
          "height": 521
        }
      },
      "source": [
        "autoencoder.summary()"
      ],
      "execution_count": 23,
      "outputs": [
        {
          "output_type": "stream",
          "text": [
            "_________________________________________________________________\n",
            "Layer (type)                 Output Shape              Param #   \n",
            "=================================================================\n",
            "input_1 (InputLayer)         (None, 64, 64, 1)         0         \n",
            "_________________________________________________________________\n",
            "conv2d_1 (Conv2D)            (None, 32, 32, 4)         20        \n",
            "_________________________________________________________________\n",
            "conv2d_2 (Conv2D)            (None, 16, 16, 6)         102       \n",
            "_________________________________________________________________\n",
            "conv2d_3 (Conv2D)            (None, 8, 8, 8)           200       \n",
            "_________________________________________________________________\n",
            "flatten_1 (Flatten)          (None, 512)               0         \n",
            "_________________________________________________________________\n",
            "dense_1 (Dense)              (None, 128)               65664     \n",
            "_________________________________________________________________\n",
            "dense_2 (Dense)              (None, 512)               66048     \n",
            "_________________________________________________________________\n",
            "reshape_1 (Reshape)          (None, 8, 8, 8)           0         \n",
            "_________________________________________________________________\n",
            "conv2d_transpose_1 (Conv2DTr (None, 16, 16, 8)         264       \n",
            "_________________________________________________________________\n",
            "conv2d_transpose_2 (Conv2DTr (None, 32, 32, 6)         198       \n",
            "_________________________________________________________________\n",
            "conv2d_transpose_3 (Conv2DTr (None, 64, 64, 1)         25        \n",
            "=================================================================\n",
            "Total params: 132,521\n",
            "Trainable params: 132,521\n",
            "Non-trainable params: 0\n",
            "_________________________________________________________________\n"
          ],
          "name": "stdout"
        }
      ]
    },
    {
      "cell_type": "code",
      "metadata": {
        "colab_type": "code",
        "id": "q5eTPk9QMQAK",
        "colab": {
          "base_uri": "https://localhost:8080/",
          "height": 159
        },
        "outputId": "bebda52b-4409-498f-ffa2-3439d383e811"
      },
      "source": [
        "autoencoder.compile(optimizer='adam', loss='binary_crossentropy')\n"
      ],
      "execution_count": 24,
      "outputs": [
        {
          "output_type": "stream",
          "text": [
            "W0725 17:49:19.334645 139691602151296 deprecation_wrapper.py:119] From /usr/local/lib/python3.6/dist-packages/keras/optimizers.py:790: The name tf.train.Optimizer is deprecated. Please use tf.compat.v1.train.Optimizer instead.\n",
            "\n",
            "W0725 17:49:19.362660 139691602151296 deprecation_wrapper.py:119] From /usr/local/lib/python3.6/dist-packages/keras/backend/tensorflow_backend.py:3376: The name tf.log is deprecated. Please use tf.math.log instead.\n",
            "\n",
            "W0725 17:49:19.369862 139691602151296 deprecation.py:323] From /usr/local/lib/python3.6/dist-packages/tensorflow/python/ops/nn_impl.py:180: add_dispatch_support.<locals>.wrapper (from tensorflow.python.ops.array_ops) is deprecated and will be removed in a future version.\n",
            "Instructions for updating:\n",
            "Use tf.where in 2.0, which has the same broadcast rule as np.where\n"
          ],
          "name": "stderr"
        }
      ]
    },
    {
      "cell_type": "code",
      "metadata": {
        "colab_type": "code",
        "id": "Yvdh01JrOyhv",
        "colab": {}
      },
      "source": [
        "data = np.expand_dims(data, -1)"
      ],
      "execution_count": 0,
      "outputs": []
    },
    {
      "cell_type": "code",
      "metadata": {
        "colab_type": "code",
        "id": "Nfe0MOakPWFV",
        "colab": {}
      },
      "source": [
        ""
      ],
      "execution_count": 0,
      "outputs": []
    },
    {
      "cell_type": "code",
      "metadata": {
        "colab_type": "code",
        "id": "RZFQzozhQhSD",
        "outputId": "aa3a71df-b21c-4c17-9327-1cd5ff266e96",
        "colab": {
          "base_uri": "https://localhost:8080/",
          "height": 34
        }
      },
      "source": [
        "data.shape"
      ],
      "execution_count": 26,
      "outputs": [
        {
          "output_type": "execute_result",
          "data": {
            "text/plain": [
              "(50735, 64, 64, 1)"
            ]
          },
          "metadata": {
            "tags": []
          },
          "execution_count": 26
        }
      ]
    },
    {
      "cell_type": "code",
      "metadata": {
        "colab_type": "code",
        "id": "em49tpOcO3_T",
        "outputId": "6581cd06-1942-47fe-a129-f63229a0d55b",
        "colab": {
          "base_uri": "https://localhost:8080/",
          "height": 286
        }
      },
      "source": [
        "plt.imshow(np.squeeze(data[30]))"
      ],
      "execution_count": 27,
      "outputs": [
        {
          "output_type": "execute_result",
          "data": {
            "text/plain": [
              "<matplotlib.image.AxesImage at 0x7f0c28ebccc0>"
            ]
          },
          "metadata": {
            "tags": []
          },
          "execution_count": 27
        },
        {
          "output_type": "display_data",
          "data": {
            "image/png": "[encoded data removed]",
            "text/plain": [
              "<Figure size 432x288 with 1 Axes>"
            ]
          },
          "metadata": {
            "tags": []
          }
        }
      ]
    },
    {
      "cell_type": "code",
      "metadata": {
        "colab_type": "code",
        "id": "CoVjYsDHM4xu",
        "outputId": "5f2e6ef1-857c-42f0-af2a-ad33fb31df51",
        "colab": {
          "base_uri": "https://localhost:8080/",
          "height": 1000
        }
      },
      "source": [
        "autoencoder.fit(x = data, y = data, batch_size=128, epochs=37) #10+27"
      ],
      "execution_count": 28,
      "outputs": [
        {
          "output_type": "stream",
          "text": [
            "W0725 17:49:50.639124 139691602151296 deprecation_wrapper.py:119] From /usr/local/lib/python3.6/dist-packages/keras/backend/tensorflow_backend.py:986: The name tf.assign_add is deprecated. Please use tf.compat.v1.assign_add instead.\n",
            "\n"
          ],
          "name": "stderr"
        },
        {
          "output_type": "stream",
          "text": [
            "Epoch 1/37\n",
            "50735/50735 [==============================] - 13s 261us/step - loss: 0.3133\n",
            "Epoch 2/37\n",
            "50735/50735 [==============================] - 8s 157us/step - loss: 0.2543\n",
            "Epoch 3/37\n",
            "50735/50735 [==============================] - 8s 160us/step - loss: 0.2506\n",
            "Epoch 4/37\n",
            "50735/50735 [==============================] - 7s 137us/step - loss: 0.2518\n",
            "Epoch 5/37\n",
            "50735/50735 [==============================] - 8s 160us/step - loss: 0.2486\n",
            "Epoch 6/37\n",
            "50735/50735 [==============================] - 8s 155us/step - loss: 0.2492\n",
            "Epoch 7/37\n",
            "50735/50735 [==============================] - 8s 155us/step - loss: 0.2477\n",
            "Epoch 8/37\n",
            "50735/50735 [==============================] - 8s 157us/step - loss: 0.2472\n",
            "Epoch 9/37\n",
            "50735/50735 [==============================] - 8s 154us/step - loss: 0.2469\n",
            "Epoch 10/37\n",
            "50735/50735 [==============================] - 8s 154us/step - loss: 0.2467\n",
            "Epoch 11/37\n",
            "50735/50735 [==============================] - 8s 155us/step - loss: 0.2466\n",
            "Epoch 12/37\n",
            "50735/50735 [==============================] - 8s 156us/step - loss: 0.2463\n",
            "Epoch 13/37\n",
            "50735/50735 [==============================] - 8s 153us/step - loss: 0.2461\n",
            "Epoch 14/37\n",
            "50735/50735 [==============================] - 8s 158us/step - loss: 0.2460\n",
            "Epoch 15/37\n",
            "50735/50735 [==============================] - 8s 156us/step - loss: 0.2457\n",
            "Epoch 16/37\n",
            "50735/50735 [==============================] - 8s 157us/step - loss: 0.2470\n",
            "Epoch 17/37\n",
            "50735/50735 [==============================] - 8s 157us/step - loss: 0.2465\n",
            "Epoch 18/37\n",
            "50735/50735 [==============================] - 8s 158us/step - loss: 0.2460\n",
            "Epoch 19/37\n",
            "50735/50735 [==============================] - 8s 158us/step - loss: 0.2457\n",
            "Epoch 20/37\n",
            "50735/50735 [==============================] - 8s 159us/step - loss: 0.2458\n",
            "Epoch 21/37\n",
            "50735/50735 [==============================] - 8s 158us/step - loss: 0.2456\n",
            "Epoch 22/37\n",
            "50735/50735 [==============================] - 8s 160us/step - loss: 0.2454\n",
            "Epoch 23/37\n",
            "50735/50735 [==============================] - 8s 156us/step - loss: 0.2473\n",
            "Epoch 24/37\n",
            "50735/50735 [==============================] - 8s 156us/step - loss: 0.2466\n",
            "Epoch 25/37\n",
            "50735/50735 [==============================] - 8s 157us/step - loss: 0.2458\n",
            "Epoch 26/37\n",
            "50735/50735 [==============================] - 8s 156us/step - loss: 0.2456\n",
            "Epoch 27/37\n",
            "50735/50735 [==============================] - 8s 158us/step - loss: 0.2454\n",
            "Epoch 28/37\n",
            "50735/50735 [==============================] - 8s 160us/step - loss: 0.2453\n",
            "Epoch 29/37\n",
            "50735/50735 [==============================] - 8s 158us/step - loss: 0.2451\n",
            "Epoch 30/37\n",
            "50735/50735 [==============================] - 8s 149us/step - loss: 0.2452\n",
            "Epoch 31/37\n",
            "50735/50735 [==============================] - 7s 137us/step - loss: 0.2466\n",
            "Epoch 32/37\n",
            "50735/50735 [==============================] - 7s 129us/step - loss: 0.2463\n",
            "Epoch 33/37\n",
            "50735/50735 [==============================] - 7s 136us/step - loss: 0.2460\n",
            "Epoch 34/37\n",
            "50735/50735 [==============================] - 7s 144us/step - loss: 0.2458\n",
            "Epoch 35/37\n",
            "50735/50735 [==============================] - 8s 155us/step - loss: 0.2459\n",
            "Epoch 36/37\n",
            "50735/50735 [==============================] - 7s 140us/step - loss: 0.2459\n",
            "Epoch 37/37\n",
            "50735/50735 [==============================] - 7s 137us/step - loss: 0.2457\n"
          ],
          "name": "stdout"
        },
        {
          "output_type": "execute_result",
          "data": {
            "text/plain": [
              "<keras.callbacks.History at 0x7f0c7898cc88>"
            ]
          },
          "metadata": {
            "tags": []
          },
          "execution_count": 28
        }
      ]
    },
    {
      "cell_type": "code",
      "metadata": {
        "colab_type": "code",
        "id": "wpZ14VdpOggY",
        "colab": {}
      },
      "source": [
        "pred = encoder.predict(np.expand_dims(data[6000],axis=0))\n"
      ],
      "execution_count": 0,
      "outputs": []
    },
    {
      "cell_type": "code",
      "metadata": {
        "colab_type": "code",
        "id": "jSJ6XUvxrqVg",
        "colab": {}
      },
      "source": [
        "pred_x = encoder.predict(data)"
      ],
      "execution_count": 0,
      "outputs": []
    },
    {
      "cell_type": "code",
      "metadata": {
        "colab_type": "code",
        "id": "ZS2nOKTJSsMf",
        "colab": {}
      },
      "source": [
        "encoder.save(\"encoder_model_12000_out.h5\")\n",
        "# encoder.save_weights(\"encoder.h5\")"
      ],
      "execution_count": 0,
      "outputs": []
    },
    {
      "cell_type": "code",
      "metadata": {
        "colab_type": "code",
        "id": "GBWOJl6YSwFF",
        "outputId": "6b2bc229-6f73-44b7-a023-693c035138c6",
        "colab": {
          "base_uri": "https://localhost:8080/",
          "height": 286
        }
      },
      "source": [
        "plt.imshow(np.squeeze(data[6000]))"
      ],
      "execution_count": 30,
      "outputs": [
        {
          "output_type": "execute_result",
          "data": {
            "text/plain": [
              "<matplotlib.image.AxesImage at 0x7f0c18048da0>"
            ]
          },
          "metadata": {
            "tags": []
          },
          "execution_count": 30
        },
        {
          "output_type": "display_data",
          "data": {
            "image/png": "[encoded data removed]",
            "text/plain": [
              "<Figure size 432x288 with 1 Axes>"
            ]
          },
          "metadata": {
            "tags": []
          }
        }
      ]
    },
    {
      "cell_type": "code",
      "metadata": {
        "colab_type": "code",
        "id": "cbRmEdNlS0Kg",
        "outputId": "40a1f749-3e68-4a77-a178-65e63631a25b",
        "colab": {
          "base_uri": "https://localhost:8080/",
          "height": 286
        }
      },
      "source": [
        "plt.imshow(np.squeeze(decoder.predict(pred)[0]))"
      ],
      "execution_count": 31,
      "outputs": [
        {
          "output_type": "execute_result",
          "data": {
            "text/plain": [
              "<matplotlib.image.AxesImage at 0x7f0c18030438>"
            ]
          },
          "metadata": {
            "tags": []
          },
          "execution_count": 31
        },
        {
          "output_type": "display_data",
          "data": {
            "image/png": "[encoded data removed]",
            "text/plain": [
              "<Figure size 432x288 with 1 Axes>"
            ]
          },
          "metadata": {
            "tags": []
          }
        }
      ]
    },
    {
      "cell_type": "code",
      "metadata": {
        "colab_type": "code",
        "id": "OWrDdQjpS4Ko",
        "outputId": "7d57651e-903b-40ab-f19f-316c8606bcce",
        "colab": {
          "base_uri": "https://localhost:8080/",
          "height": 469
        }
      },
      "source": [
        "pred_x[6001]"
      ],
      "execution_count": 35,
      "outputs": [
        {
          "output_type": "execute_result",
          "data": {
            "text/plain": [
              "array([0.948084  , 0.7643084 , 2.9084885 , 1.5617592 , 2.4436653 ,\n",
              "       0.        , 1.2172883 , 0.3524298 , 0.        , 0.        ,\n",
              "       0.        , 0.        , 0.55534184, 0.        , 0.21258853,\n",
              "       0.8996606 , 0.80584574, 0.63419324, 0.33756402, 1.0516057 ,\n",
              "       1.1113516 , 0.        , 0.66860074, 0.        , 1.4708054 ,\n",
              "       0.96437925, 0.7823256 , 2.575723  , 0.        , 0.4740736 ,\n",
              "       2.3675206 , 1.097592  , 0.        , 1.2585616 , 1.8208413 ,\n",
              "       0.        , 0.9885653 , 0.        , 2.625671  , 0.9975333 ,\n",
              "       0.        , 1.8988785 , 0.        , 2.7696483 , 0.        ,\n",
              "       0.9041214 , 1.1636318 , 0.        , 1.2785805 , 0.        ,\n",
              "       0.        , 0.        , 0.9394092 , 0.        , 1.5041827 ,\n",
              "       1.6577635 , 1.7890118 , 1.4493033 , 1.306209  , 1.4393302 ,\n",
              "       2.8637042 , 0.61945546, 0.76607865, 0.8090451 , 0.        ,\n",
              "       2.3634331 , 1.031156  , 0.9471288 , 0.76237726, 1.2261571 ,\n",
              "       0.47438103, 0.31602415, 3.0512917 , 1.0340284 , 0.        ,\n",
              "       1.2611759 , 0.        , 1.3883113 , 0.7360193 , 0.9209393 ,\n",
              "       1.9306206 , 0.        , 0.        , 0.6580709 , 2.2149303 ,\n",
              "       0.        , 2.1895924 , 2.0011134 , 1.3495244 , 0.81276244,\n",
              "       1.0640961 , 1.7544492 , 0.93482697, 0.9493995 , 0.64469874,\n",
              "       2.014237  , 2.7455297 , 1.3609542 , 1.2651964 , 0.93630344,\n",
              "       0.47562873, 2.1483245 , 0.7774865 , 2.1751242 , 0.        ,\n",
              "       0.91242933, 0.5816736 , 0.8674721 , 1.0807917 , 0.5376817 ,\n",
              "       2.1728199 , 0.        , 0.        , 0.        , 2.0441546 ,\n",
              "       0.43937486, 0.        , 1.4346421 , 0.        , 0.94514287,\n",
              "       0.        , 1.330156  , 0.47658524, 0.95440197, 1.3540734 ,\n",
              "       0.6915822 , 0.64161897, 0.97527975], dtype=float32)"
            ]
          },
          "metadata": {
            "tags": []
          },
          "execution_count": 35
        }
      ]
    },
    {
      "cell_type": "code",
      "metadata": {
        "colab_type": "code",
        "id": "EhS-Oq69luAW",
        "outputId": "f6df5633-f6c8-42e1-a111-f8f89ac3db70",
        "colab": {
          "base_uri": "https://localhost:8080/",
          "height": 471
        }
      },
      "source": [
        "!pip install catboost"
      ],
      "execution_count": 36,
      "outputs": [
        {
          "output_type": "stream",
          "text": [
            "Requirement already satisfied: catboost in /usr/local/lib/python3.6/dist-packages (0.16)\n",
            "Requirement already satisfied: pandas>=0.19.1 in /usr/local/lib/python3.6/dist-packages (from catboost) (0.24.2)\n",
            "Requirement already satisfied: matplotlib in /usr/local/lib/python3.6/dist-packages (from catboost) (3.0.3)\n",
            "Requirement already satisfied: plotly in /usr/local/lib/python3.6/dist-packages (from catboost) (3.6.1)\n",
            "Requirement already satisfied: six in /usr/local/lib/python3.6/dist-packages (from catboost) (1.12.0)\n",
            "Requirement already satisfied: numpy>=1.16.0 in /usr/local/lib/python3.6/dist-packages (from catboost) (1.16.4)\n",
            "Requirement already satisfied: graphviz in /usr/local/lib/python3.6/dist-packages (from catboost) (0.10.1)\n",
            "Requirement already satisfied: pytz>=2011k in /usr/local/lib/python3.6/dist-packages (from pandas>=0.19.1->catboost) (2018.9)\n",
            "Requirement already satisfied: python-dateutil>=2.5.0 in /usr/local/lib/python3.6/dist-packages (from pandas>=0.19.1->catboost) (2.5.3)\n",
            "Requirement already satisfied: pyparsing!=2.0.4,!=2.1.2,!=2.1.6,>=2.0.1 in /usr/local/lib/python3.6/dist-packages (from matplotlib->catboost) (2.4.0)\n",
            "Requirement already satisfied: cycler>=0.10 in /usr/local/lib/python3.6/dist-packages (from matplotlib->catboost) (0.10.0)\n",
            "Requirement already satisfied: kiwisolver>=1.0.1 in /usr/local/lib/python3.6/dist-packages (from matplotlib->catboost) (1.1.0)\n",
            "Requirement already satisfied: nbformat>=4.2 in /usr/local/lib/python3.6/dist-packages (from plotly->catboost) (4.4.0)\n",
            "Requirement already satisfied: retrying>=1.3.3 in /usr/local/lib/python3.6/dist-packages (from plotly->catboost) (1.3.3)\n",
            "Requirement already satisfied: requests in /usr/local/lib/python3.6/dist-packages (from plotly->catboost) (2.21.0)\n",
            "Requirement already satisfied: decorator>=4.0.6 in /usr/local/lib/python3.6/dist-packages (from plotly->catboost) (4.4.0)\n",
            "Requirement already satisfied: setuptools in /usr/local/lib/python3.6/dist-packages (from kiwisolver>=1.0.1->matplotlib->catboost) (41.0.1)\n",
            "Requirement already satisfied: jsonschema!=2.5.0,>=2.4 in /usr/local/lib/python3.6/dist-packages (from nbformat>=4.2->plotly->catboost) (2.6.0)\n",
            "Requirement already satisfied: traitlets>=4.1 in /usr/local/lib/python3.6/dist-packages (from nbformat>=4.2->plotly->catboost) (4.3.2)\n",
            "Requirement already satisfied: jupyter-core in /usr/local/lib/python3.6/dist-packages (from nbformat>=4.2->plotly->catboost) (4.5.0)\n",
            "Requirement already satisfied: ipython-genutils in /usr/local/lib/python3.6/dist-packages (from nbformat>=4.2->plotly->catboost) (0.2.0)\n",
            "Requirement already satisfied: urllib3<1.25,>=1.21.1 in /usr/local/lib/python3.6/dist-packages (from requests->plotly->catboost) (1.24.3)\n",
            "Requirement already satisfied: idna<2.9,>=2.5 in /usr/local/lib/python3.6/dist-packages (from requests->plotly->catboost) (2.8)\n",
            "Requirement already satisfied: certifi>=2017.4.17 in /usr/local/lib/python3.6/dist-packages (from requests->plotly->catboost) (2019.6.16)\n",
            "Requirement already satisfied: chardet<3.1.0,>=3.0.2 in /usr/local/lib/python3.6/dist-packages (from requests->plotly->catboost) (3.0.4)\n"
          ],
          "name": "stdout"
        }
      ]
    },
    {
      "cell_type": "code",
      "metadata": {
        "id": "cVdgRYSkRzq5",
        "colab_type": "code",
        "colab": {}
      },
      "source": [
        "from keras.backend.tensorflow_backend import set_session\n",
        "from keras.backend.tensorflow_backend import clear_session\n",
        "from keras.backend.tensorflow_backend import get_session\n",
        "import tensorflow\n",
        "\n",
        "# Reset Keras Session\n",
        "def reset_keras():\n",
        "    sess = get_session()\n",
        "    clear_session()\n",
        "    sess.close()\n",
        "    sess = get_session()\n",
        "\n",
        "#     try:\n",
        "#         del classifier # this is from global space - change this as you need\n",
        "#     except:\n",
        "#         pass\n",
        "\n",
        "#     print(gc.collect()) # if it's done something you should see a number being outputted\n",
        "\n",
        "    # use the same config as you used to create the session\n",
        "    config = tensorflow.ConfigProto()\n",
        "    config.gpu_options.per_process_gpu_memory_fraction = 1\n",
        "    config.gpu_options.visible_device_list = \"0\"\n",
        "    set_session(tensorflow.Session(config=config))"
      ],
      "execution_count": 0,
      "outputs": []
    },
    {
      "cell_type": "code",
      "metadata": {
        "id": "YLm6BVryR1Pk",
        "colab_type": "code",
        "colab": {}
      },
      "source": [
        "reset_keras()"
      ],
      "execution_count": 0,
      "outputs": []
    },
    {
      "cell_type": "code",
      "metadata": {
        "colab_type": "code",
        "id": "4JzZYdJjlmKJ",
        "colab": {}
      },
      "source": [
        "import catboost"
      ],
      "execution_count": 0,
      "outputs": []
    },
    {
      "cell_type": "code",
      "metadata": {
        "colab_type": "code",
        "id": "f0qIB2aYlv5a",
        "colab": {}
      },
      "source": [
        "clf = catboost.CatBoostClassifier(task_type='GPU')"
      ],
      "execution_count": 0,
      "outputs": []
    },
    {
      "cell_type": "code",
      "metadata": {
        "colab_type": "code",
        "id": "nMjcQXqJl1_6",
        "outputId": "44191337-8b8d-4bf7-fe27-d2f2c7db72d9",
        "colab": {
          "base_uri": "https://localhost:8080/",
          "height": 1000
        }
      },
      "source": [
        "clf.fit(pred_x, np.array(labels))"
      ],
      "execution_count": 46,
      "outputs": [
        {
          "output_type": "stream",
          "text": [
            "0:\tlearn: 1.3467495\ttotal: 31.4ms\tremaining: 31.3s\n",
            "1:\tlearn: 1.3101380\ttotal: 48.9ms\tremaining: 24.4s\n",
            "2:\tlearn: 1.2768070\ttotal: 66.3ms\tremaining: 22s\n",
            "3:\tlearn: 1.2451918\ttotal: 83.3ms\tremaining: 20.7s\n",
            "4:\tlearn: 1.2166699\ttotal: 100ms\tremaining: 20s\n",
            "5:\tlearn: 1.1902479\ttotal: 117ms\tremaining: 19.5s\n",
            "6:\tlearn: 1.1648508\ttotal: 135ms\tremaining: 19.1s\n",
            "7:\tlearn: 1.1405087\ttotal: 153ms\tremaining: 18.9s\n",
            "8:\tlearn: 1.1180514\ttotal: 169ms\tremaining: 18.6s\n",
            "9:\tlearn: 1.0956039\ttotal: 187ms\tremaining: 18.5s\n",
            "10:\tlearn: 1.0750198\ttotal: 204ms\tremaining: 18.4s\n",
            "11:\tlearn: 1.0558576\ttotal: 222ms\tremaining: 18.2s\n",
            "12:\tlearn: 1.0371045\ttotal: 243ms\tremaining: 18.5s\n",
            "13:\tlearn: 1.0186292\ttotal: 256ms\tremaining: 18.1s\n",
            "14:\tlearn: 1.0023985\ttotal: 269ms\tremaining: 17.7s\n",
            "15:\tlearn: 0.9856947\ttotal: 282ms\tremaining: 17.3s\n",
            "16:\tlearn: 0.9701586\ttotal: 295ms\tremaining: 17s\n",
            "17:\tlearn: 0.9545210\ttotal: 307ms\tremaining: 16.8s\n",
            "18:\tlearn: 0.9396197\ttotal: 321ms\tremaining: 16.5s\n",
            "19:\tlearn: 0.9256726\ttotal: 333ms\tremaining: 16.3s\n",
            "20:\tlearn: 0.9123485\ttotal: 346ms\tremaining: 16.1s\n",
            "21:\tlearn: 0.8999242\ttotal: 358ms\tremaining: 15.9s\n",
            "22:\tlearn: 0.8874649\ttotal: 372ms\tremaining: 15.8s\n",
            "23:\tlearn: 0.8758278\ttotal: 384ms\tremaining: 15.6s\n",
            "24:\tlearn: 0.8635472\ttotal: 397ms\tremaining: 15.5s\n",
            "25:\tlearn: 0.8524314\ttotal: 410ms\tremaining: 15.3s\n",
            "26:\tlearn: 0.8421388\ttotal: 420ms\tremaining: 15.1s\n",
            "27:\tlearn: 0.8315757\ttotal: 431ms\tremaining: 15s\n",
            "28:\tlearn: 0.8216197\ttotal: 446ms\tremaining: 14.9s\n",
            "29:\tlearn: 0.8113109\ttotal: 457ms\tremaining: 14.8s\n",
            "30:\tlearn: 0.8013070\ttotal: 468ms\tremaining: 14.6s\n",
            "31:\tlearn: 0.7925842\ttotal: 478ms\tremaining: 14.5s\n",
            "32:\tlearn: 0.7831141\ttotal: 489ms\tremaining: 14.3s\n",
            "33:\tlearn: 0.7741176\ttotal: 500ms\tremaining: 14.2s\n",
            "34:\tlearn: 0.7651856\ttotal: 511ms\tremaining: 14.1s\n",
            "35:\tlearn: 0.7568017\ttotal: 522ms\tremaining: 14s\n",
            "36:\tlearn: 0.7483722\ttotal: 532ms\tremaining: 13.8s\n",
            "37:\tlearn: 0.7409681\ttotal: 544ms\tremaining: 13.8s\n",
            "38:\tlearn: 0.7330929\ttotal: 555ms\tremaining: 13.7s\n",
            "39:\tlearn: 0.7254952\ttotal: 565ms\tremaining: 13.6s\n",
            "40:\tlearn: 0.7182093\ttotal: 576ms\tremaining: 13.5s\n",
            "41:\tlearn: 0.7110294\ttotal: 586ms\tremaining: 13.4s\n",
            "42:\tlearn: 0.7038973\ttotal: 597ms\tremaining: 13.3s\n",
            "43:\tlearn: 0.6971067\ttotal: 607ms\tremaining: 13.2s\n",
            "44:\tlearn: 0.6903007\ttotal: 617ms\tremaining: 13.1s\n",
            "45:\tlearn: 0.6839839\ttotal: 627ms\tremaining: 13s\n",
            "46:\tlearn: 0.6776707\ttotal: 637ms\tremaining: 12.9s\n",
            "47:\tlearn: 0.6713923\ttotal: 650ms\tremaining: 12.9s\n",
            "48:\tlearn: 0.6657262\ttotal: 660ms\tremaining: 12.8s\n",
            "49:\tlearn: 0.6602059\ttotal: 669ms\tremaining: 12.7s\n",
            "50:\tlearn: 0.6544579\ttotal: 679ms\tremaining: 12.6s\n",
            "51:\tlearn: 0.6491975\ttotal: 688ms\tremaining: 12.5s\n",
            "52:\tlearn: 0.6437323\ttotal: 697ms\tremaining: 12.5s\n",
            "53:\tlearn: 0.6383259\ttotal: 707ms\tremaining: 12.4s\n",
            "54:\tlearn: 0.6329932\ttotal: 716ms\tremaining: 12.3s\n",
            "55:\tlearn: 0.6279289\ttotal: 725ms\tremaining: 12.2s\n",
            "56:\tlearn: 0.6233013\ttotal: 734ms\tremaining: 12.1s\n",
            "57:\tlearn: 0.6184557\ttotal: 743ms\tremaining: 12.1s\n",
            "58:\tlearn: 0.6132242\ttotal: 753ms\tremaining: 12s\n",
            "59:\tlearn: 0.6085067\ttotal: 762ms\tremaining: 11.9s\n",
            "60:\tlearn: 0.6038922\ttotal: 772ms\tremaining: 11.9s\n",
            "61:\tlearn: 0.5994070\ttotal: 781ms\tremaining: 11.8s\n",
            "62:\tlearn: 0.5949052\ttotal: 792ms\tremaining: 11.8s\n",
            "63:\tlearn: 0.5905863\ttotal: 804ms\tremaining: 11.8s\n",
            "64:\tlearn: 0.5861385\ttotal: 813ms\tremaining: 11.7s\n",
            "65:\tlearn: 0.5819560\ttotal: 824ms\tremaining: 11.7s\n",
            "66:\tlearn: 0.5779024\ttotal: 834ms\tremaining: 11.6s\n",
            "67:\tlearn: 0.5738927\ttotal: 844ms\tremaining: 11.6s\n",
            "68:\tlearn: 0.5696203\ttotal: 866ms\tremaining: 11.7s\n",
            "69:\tlearn: 0.5657570\ttotal: 875ms\tremaining: 11.6s\n",
            "70:\tlearn: 0.5620116\ttotal: 885ms\tremaining: 11.6s\n",
            "71:\tlearn: 0.5583063\ttotal: 903ms\tremaining: 11.6s\n",
            "72:\tlearn: 0.5547839\ttotal: 921ms\tremaining: 11.7s\n",
            "73:\tlearn: 0.5510211\ttotal: 930ms\tremaining: 11.6s\n",
            "74:\tlearn: 0.5474546\ttotal: 940ms\tremaining: 11.6s\n",
            "75:\tlearn: 0.5441141\ttotal: 949ms\tremaining: 11.5s\n",
            "76:\tlearn: 0.5410456\ttotal: 959ms\tremaining: 11.5s\n",
            "77:\tlearn: 0.5377545\ttotal: 969ms\tremaining: 11.5s\n",
            "78:\tlearn: 0.5345568\ttotal: 979ms\tremaining: 11.4s\n",
            "79:\tlearn: 0.5318218\ttotal: 988ms\tremaining: 11.4s\n",
            "80:\tlearn: 0.5286117\ttotal: 999ms\tremaining: 11.3s\n",
            "81:\tlearn: 0.5260054\ttotal: 1.01s\tremaining: 11.3s\n",
            "82:\tlearn: 0.5228138\ttotal: 1.02s\tremaining: 11.2s\n",
            "83:\tlearn: 0.5194973\ttotal: 1.03s\tremaining: 11.2s\n",
            "84:\tlearn: 0.5162020\ttotal: 1.04s\tremaining: 11.2s\n",
            "85:\tlearn: 0.5137034\ttotal: 1.05s\tremaining: 11.2s\n",
            "86:\tlearn: 0.5111564\ttotal: 1.06s\tremaining: 11.1s\n",
            "87:\tlearn: 0.5080513\ttotal: 1.07s\tremaining: 11.1s\n",
            "88:\tlearn: 0.5049673\ttotal: 1.08s\tremaining: 11.1s\n",
            "89:\tlearn: 0.5019033\ttotal: 1.09s\tremaining: 11.1s\n",
            "90:\tlearn: 0.4989688\ttotal: 1.1s\tremaining: 11s\n",
            "91:\tlearn: 0.4969520\ttotal: 1.12s\tremaining: 11s\n",
            "92:\tlearn: 0.4949955\ttotal: 1.13s\tremaining: 11s\n",
            "93:\tlearn: 0.4921950\ttotal: 1.14s\tremaining: 11s\n",
            "94:\tlearn: 0.4901955\ttotal: 1.15s\tremaining: 10.9s\n",
            "95:\tlearn: 0.4879292\ttotal: 1.16s\tremaining: 10.9s\n",
            "96:\tlearn: 0.4854969\ttotal: 1.17s\tremaining: 10.9s\n",
            "97:\tlearn: 0.4828322\ttotal: 1.18s\tremaining: 10.8s\n",
            "98:\tlearn: 0.4807117\ttotal: 1.19s\tremaining: 10.8s\n",
            "99:\tlearn: 0.4778325\ttotal: 1.2s\tremaining: 10.8s\n",
            "100:\tlearn: 0.4750518\ttotal: 1.21s\tremaining: 10.7s\n",
            "101:\tlearn: 0.4726626\ttotal: 1.22s\tremaining: 10.7s\n",
            "102:\tlearn: 0.4703957\ttotal: 1.23s\tremaining: 10.7s\n",
            "103:\tlearn: 0.4681548\ttotal: 1.24s\tremaining: 10.7s\n",
            "104:\tlearn: 0.4660663\ttotal: 1.25s\tremaining: 10.6s\n",
            "105:\tlearn: 0.4639941\ttotal: 1.26s\tremaining: 10.6s\n",
            "106:\tlearn: 0.4615366\ttotal: 1.28s\tremaining: 10.7s\n",
            "107:\tlearn: 0.4593240\ttotal: 1.29s\tremaining: 10.6s\n",
            "108:\tlearn: 0.4568677\ttotal: 1.3s\tremaining: 10.6s\n",
            "109:\tlearn: 0.4545438\ttotal: 1.31s\tremaining: 10.6s\n",
            "110:\tlearn: 0.4526526\ttotal: 1.32s\tremaining: 10.6s\n",
            "111:\tlearn: 0.4511227\ttotal: 1.33s\tremaining: 10.5s\n",
            "112:\tlearn: 0.4492560\ttotal: 1.34s\tremaining: 10.5s\n",
            "113:\tlearn: 0.4472299\ttotal: 1.35s\tremaining: 10.5s\n",
            "114:\tlearn: 0.4452313\ttotal: 1.36s\tremaining: 10.4s\n",
            "115:\tlearn: 0.4434845\ttotal: 1.37s\tremaining: 10.4s\n",
            "116:\tlearn: 0.4418980\ttotal: 1.38s\tremaining: 10.4s\n",
            "117:\tlearn: 0.4404117\ttotal: 1.39s\tremaining: 10.4s\n",
            "118:\tlearn: 0.4389377\ttotal: 1.4s\tremaining: 10.3s\n",
            "119:\tlearn: 0.4366688\ttotal: 1.41s\tremaining: 10.3s\n",
            "120:\tlearn: 0.4343901\ttotal: 1.42s\tremaining: 10.3s\n",
            "121:\tlearn: 0.4323358\ttotal: 1.43s\tremaining: 10.3s\n",
            "122:\tlearn: 0.4308656\ttotal: 1.44s\tremaining: 10.2s\n",
            "123:\tlearn: 0.4289060\ttotal: 1.45s\tremaining: 10.2s\n",
            "124:\tlearn: 0.4273346\ttotal: 1.46s\tremaining: 10.2s\n",
            "125:\tlearn: 0.4258816\ttotal: 1.47s\tremaining: 10.2s\n",
            "126:\tlearn: 0.4237884\ttotal: 1.48s\tremaining: 10.2s\n",
            "127:\tlearn: 0.4220382\ttotal: 1.49s\tremaining: 10.2s\n",
            "128:\tlearn: 0.4206585\ttotal: 1.51s\tremaining: 10.2s\n",
            "129:\tlearn: 0.4193252\ttotal: 1.52s\tremaining: 10.2s\n",
            "130:\tlearn: 0.4173932\ttotal: 1.53s\tremaining: 10.1s\n",
            "131:\tlearn: 0.4154414\ttotal: 1.54s\tremaining: 10.1s\n",
            "132:\tlearn: 0.4134466\ttotal: 1.55s\tremaining: 10.1s\n",
            "133:\tlearn: 0.4119750\ttotal: 1.56s\tremaining: 10.1s\n",
            "134:\tlearn: 0.4101188\ttotal: 1.57s\tremaining: 10s\n",
            "135:\tlearn: 0.4086001\ttotal: 1.58s\tremaining: 10s\n",
            "136:\tlearn: 0.4066390\ttotal: 1.59s\tremaining: 10s\n",
            "137:\tlearn: 0.4047787\ttotal: 1.6s\tremaining: 9.98s\n",
            "138:\tlearn: 0.4029167\ttotal: 1.61s\tremaining: 9.96s\n",
            "139:\tlearn: 0.4017341\ttotal: 1.62s\tremaining: 9.94s\n",
            "140:\tlearn: 0.4000107\ttotal: 1.63s\tremaining: 9.92s\n",
            "141:\tlearn: 0.3988851\ttotal: 1.64s\tremaining: 9.89s\n",
            "142:\tlearn: 0.3973547\ttotal: 1.65s\tremaining: 9.87s\n",
            "143:\tlearn: 0.3956035\ttotal: 1.66s\tremaining: 9.85s\n",
            "144:\tlearn: 0.3939952\ttotal: 1.67s\tremaining: 9.83s\n",
            "145:\tlearn: 0.3922760\ttotal: 1.68s\tremaining: 9.84s\n",
            "146:\tlearn: 0.3906822\ttotal: 1.69s\tremaining: 9.82s\n",
            "147:\tlearn: 0.3892876\ttotal: 1.7s\tremaining: 9.8s\n",
            "148:\tlearn: 0.3878194\ttotal: 1.71s\tremaining: 9.78s\n",
            "149:\tlearn: 0.3866672\ttotal: 1.72s\tremaining: 9.76s\n",
            "150:\tlearn: 0.3848525\ttotal: 1.73s\tremaining: 9.74s\n",
            "151:\tlearn: 0.3830566\ttotal: 1.75s\tremaining: 9.75s\n",
            "152:\tlearn: 0.3814746\ttotal: 1.76s\tremaining: 9.73s\n",
            "153:\tlearn: 0.3798187\ttotal: 1.77s\tremaining: 9.71s\n",
            "154:\tlearn: 0.3780102\ttotal: 1.78s\tremaining: 9.69s\n",
            "155:\tlearn: 0.3767415\ttotal: 1.79s\tremaining: 9.67s\n",
            "156:\tlearn: 0.3750523\ttotal: 1.8s\tremaining: 9.66s\n",
            "157:\tlearn: 0.3733776\ttotal: 1.81s\tremaining: 9.64s\n",
            "158:\tlearn: 0.3718275\ttotal: 1.82s\tremaining: 9.62s\n",
            "159:\tlearn: 0.3699646\ttotal: 1.83s\tremaining: 9.6s\n",
            "160:\tlearn: 0.3684728\ttotal: 1.84s\tremaining: 9.59s\n",
            "161:\tlearn: 0.3669672\ttotal: 1.85s\tremaining: 9.56s\n",
            "162:\tlearn: 0.3653937\ttotal: 1.86s\tremaining: 9.55s\n",
            "163:\tlearn: 0.3643982\ttotal: 1.87s\tremaining: 9.53s\n",
            "164:\tlearn: 0.3630337\ttotal: 1.88s\tremaining: 9.53s\n",
            "165:\tlearn: 0.3619254\ttotal: 1.89s\tremaining: 9.51s\n",
            "166:\tlearn: 0.3607048\ttotal: 1.91s\tremaining: 9.53s\n",
            "167:\tlearn: 0.3596021\ttotal: 1.93s\tremaining: 9.56s\n",
            "168:\tlearn: 0.3581125\ttotal: 1.94s\tremaining: 9.54s\n",
            "169:\tlearn: 0.3568203\ttotal: 1.95s\tremaining: 9.52s\n",
            "170:\tlearn: 0.3557376\ttotal: 1.96s\tremaining: 9.5s\n",
            "171:\tlearn: 0.3544882\ttotal: 1.97s\tremaining: 9.48s\n",
            "172:\tlearn: 0.3528839\ttotal: 1.98s\tremaining: 9.47s\n",
            "173:\tlearn: 0.3515376\ttotal: 1.99s\tremaining: 9.45s\n",
            "174:\tlearn: 0.3502088\ttotal: 2s\tremaining: 9.43s\n",
            "175:\tlearn: 0.3491793\ttotal: 2.01s\tremaining: 9.41s\n",
            "176:\tlearn: 0.3481062\ttotal: 2.02s\tremaining: 9.39s\n",
            "177:\tlearn: 0.3469751\ttotal: 2.03s\tremaining: 9.38s\n",
            "178:\tlearn: 0.3459501\ttotal: 2.04s\tremaining: 9.36s\n",
            "179:\tlearn: 0.3451243\ttotal: 2.05s\tremaining: 9.34s\n",
            "180:\tlearn: 0.3442243\ttotal: 2.06s\tremaining: 9.32s\n",
            "181:\tlearn: 0.3428757\ttotal: 2.07s\tremaining: 9.3s\n",
            "182:\tlearn: 0.3413969\ttotal: 2.08s\tremaining: 9.28s\n",
            "183:\tlearn: 0.3403301\ttotal: 2.09s\tremaining: 9.27s\n",
            "184:\tlearn: 0.3390833\ttotal: 2.1s\tremaining: 9.25s\n",
            "185:\tlearn: 0.3376673\ttotal: 2.11s\tremaining: 9.24s\n",
            "186:\tlearn: 0.3367278\ttotal: 2.12s\tremaining: 9.22s\n",
            "187:\tlearn: 0.3354118\ttotal: 2.13s\tremaining: 9.2s\n",
            "188:\tlearn: 0.3340613\ttotal: 2.14s\tremaining: 9.19s\n",
            "189:\tlearn: 0.3328041\ttotal: 2.15s\tremaining: 9.19s\n",
            "190:\tlearn: 0.3311953\ttotal: 2.16s\tremaining: 9.17s\n",
            "191:\tlearn: 0.3301480\ttotal: 2.17s\tremaining: 9.15s\n",
            "192:\tlearn: 0.3289849\ttotal: 2.19s\tremaining: 9.15s\n",
            "193:\tlearn: 0.3280030\ttotal: 2.2s\tremaining: 9.13s\n",
            "194:\tlearn: 0.3267775\ttotal: 2.21s\tremaining: 9.11s\n",
            "195:\tlearn: 0.3255821\ttotal: 2.22s\tremaining: 9.09s\n",
            "196:\tlearn: 0.3243420\ttotal: 2.23s\tremaining: 9.08s\n",
            "197:\tlearn: 0.3232155\ttotal: 2.24s\tremaining: 9.06s\n",
            "198:\tlearn: 0.3222780\ttotal: 2.25s\tremaining: 9.04s\n",
            "199:\tlearn: 0.3213527\ttotal: 2.26s\tremaining: 9.03s\n",
            "200:\tlearn: 0.3200264\ttotal: 2.27s\tremaining: 9.01s\n",
            "201:\tlearn: 0.3187236\ttotal: 2.28s\tremaining: 9.01s\n",
            "202:\tlearn: 0.3174236\ttotal: 2.29s\tremaining: 9s\n",
            "203:\tlearn: 0.3163178\ttotal: 2.3s\tremaining: 8.98s\n",
            "204:\tlearn: 0.3153005\ttotal: 2.31s\tremaining: 8.96s\n",
            "205:\tlearn: 0.3140903\ttotal: 2.32s\tremaining: 8.94s\n",
            "206:\tlearn: 0.3132524\ttotal: 2.33s\tremaining: 8.92s\n",
            "207:\tlearn: 0.3121542\ttotal: 2.34s\tremaining: 8.91s\n",
            "208:\tlearn: 0.3111083\ttotal: 2.35s\tremaining: 8.89s\n",
            "209:\tlearn: 0.3098016\ttotal: 2.36s\tremaining: 8.88s\n",
            "210:\tlearn: 0.3087142\ttotal: 2.37s\tremaining: 8.86s\n",
            "211:\tlearn: 0.3075878\ttotal: 2.38s\tremaining: 8.85s\n",
            "212:\tlearn: 0.3067199\ttotal: 2.39s\tremaining: 8.83s\n",
            "213:\tlearn: 0.3056646\ttotal: 2.4s\tremaining: 8.82s\n",
            "214:\tlearn: 0.3046942\ttotal: 2.41s\tremaining: 8.8s\n",
            "215:\tlearn: 0.3036058\ttotal: 2.42s\tremaining: 8.79s\n",
            "216:\tlearn: 0.3027005\ttotal: 2.43s\tremaining: 8.77s\n",
            "217:\tlearn: 0.3018183\ttotal: 2.44s\tremaining: 8.75s\n",
            "218:\tlearn: 0.3007409\ttotal: 2.45s\tremaining: 8.73s\n",
            "219:\tlearn: 0.3001843\ttotal: 2.46s\tremaining: 8.72s\n",
            "220:\tlearn: 0.2993139\ttotal: 2.47s\tremaining: 8.7s\n",
            "221:\tlearn: 0.2983892\ttotal: 2.48s\tremaining: 8.7s\n",
            "222:\tlearn: 0.2972036\ttotal: 2.49s\tremaining: 8.69s\n",
            "223:\tlearn: 0.2961735\ttotal: 2.5s\tremaining: 8.67s\n",
            "224:\tlearn: 0.2950825\ttotal: 2.52s\tremaining: 8.68s\n",
            "225:\tlearn: 0.2941960\ttotal: 2.53s\tremaining: 8.67s\n",
            "226:\tlearn: 0.2935799\ttotal: 2.54s\tremaining: 8.65s\n",
            "227:\tlearn: 0.2924843\ttotal: 2.55s\tremaining: 8.64s\n",
            "228:\tlearn: 0.2914752\ttotal: 2.56s\tremaining: 8.62s\n",
            "229:\tlearn: 0.2907071\ttotal: 2.57s\tremaining: 8.6s\n",
            "230:\tlearn: 0.2895991\ttotal: 2.58s\tremaining: 8.59s\n",
            "231:\tlearn: 0.2888802\ttotal: 2.59s\tremaining: 8.58s\n",
            "232:\tlearn: 0.2881373\ttotal: 2.6s\tremaining: 8.56s\n",
            "233:\tlearn: 0.2874599\ttotal: 2.61s\tremaining: 8.54s\n",
            "234:\tlearn: 0.2864341\ttotal: 2.62s\tremaining: 8.53s\n",
            "235:\tlearn: 0.2854799\ttotal: 2.63s\tremaining: 8.51s\n",
            "236:\tlearn: 0.2844650\ttotal: 2.64s\tremaining: 8.51s\n",
            "237:\tlearn: 0.2836438\ttotal: 2.65s\tremaining: 8.5s\n",
            "238:\tlearn: 0.2830099\ttotal: 2.66s\tremaining: 8.48s\n",
            "239:\tlearn: 0.2819888\ttotal: 2.67s\tremaining: 8.47s\n",
            "240:\tlearn: 0.2810919\ttotal: 2.69s\tremaining: 8.47s\n",
            "241:\tlearn: 0.2800546\ttotal: 2.7s\tremaining: 8.46s\n",
            "242:\tlearn: 0.2790707\ttotal: 2.71s\tremaining: 8.44s\n",
            "243:\tlearn: 0.2783680\ttotal: 2.72s\tremaining: 8.43s\n",
            "244:\tlearn: 0.2776076\ttotal: 2.73s\tremaining: 8.41s\n",
            "245:\tlearn: 0.2768571\ttotal: 2.74s\tremaining: 8.39s\n",
            "246:\tlearn: 0.2758152\ttotal: 2.75s\tremaining: 8.38s\n",
            "247:\tlearn: 0.2749591\ttotal: 2.76s\tremaining: 8.37s\n",
            "248:\tlearn: 0.2739129\ttotal: 2.77s\tremaining: 8.35s\n",
            "249:\tlearn: 0.2732773\ttotal: 2.78s\tremaining: 8.33s\n",
            "250:\tlearn: 0.2726765\ttotal: 2.79s\tremaining: 8.32s\n",
            "251:\tlearn: 0.2718641\ttotal: 2.8s\tremaining: 8.3s\n",
            "252:\tlearn: 0.2711871\ttotal: 2.81s\tremaining: 8.29s\n",
            "253:\tlearn: 0.2702252\ttotal: 2.82s\tremaining: 8.27s\n",
            "254:\tlearn: 0.2693267\ttotal: 2.83s\tremaining: 8.26s\n",
            "255:\tlearn: 0.2685278\ttotal: 2.84s\tremaining: 8.24s\n",
            "256:\tlearn: 0.2676886\ttotal: 2.85s\tremaining: 8.23s\n",
            "257:\tlearn: 0.2672451\ttotal: 2.86s\tremaining: 8.21s\n",
            "258:\tlearn: 0.2661982\ttotal: 2.87s\tremaining: 8.2s\n",
            "259:\tlearn: 0.2651820\ttotal: 2.88s\tremaining: 8.19s\n",
            "260:\tlearn: 0.2646726\ttotal: 2.89s\tremaining: 8.19s\n",
            "261:\tlearn: 0.2637799\ttotal: 2.91s\tremaining: 8.2s\n",
            "262:\tlearn: 0.2630060\ttotal: 2.92s\tremaining: 8.18s\n",
            "263:\tlearn: 0.2622600\ttotal: 2.94s\tremaining: 8.19s\n",
            "264:\tlearn: 0.2615619\ttotal: 2.95s\tremaining: 8.18s\n",
            "265:\tlearn: 0.2610936\ttotal: 2.96s\tremaining: 8.16s\n",
            "266:\tlearn: 0.2604250\ttotal: 2.97s\tremaining: 8.15s\n",
            "267:\tlearn: 0.2594755\ttotal: 2.98s\tremaining: 8.14s\n",
            "268:\tlearn: 0.2586450\ttotal: 2.99s\tremaining: 8.12s\n",
            "269:\tlearn: 0.2579262\ttotal: 3s\tremaining: 8.11s\n",
            "270:\tlearn: 0.2574229\ttotal: 3.01s\tremaining: 8.09s\n",
            "271:\tlearn: 0.2566686\ttotal: 3.02s\tremaining: 8.08s\n",
            "272:\tlearn: 0.2559609\ttotal: 3.03s\tremaining: 8.06s\n",
            "273:\tlearn: 0.2552532\ttotal: 3.04s\tremaining: 8.05s\n",
            "274:\tlearn: 0.2544012\ttotal: 3.05s\tremaining: 8.04s\n",
            "275:\tlearn: 0.2537804\ttotal: 3.06s\tremaining: 8.02s\n",
            "276:\tlearn: 0.2528731\ttotal: 3.07s\tremaining: 8.01s\n",
            "277:\tlearn: 0.2523985\ttotal: 3.08s\tremaining: 7.99s\n",
            "278:\tlearn: 0.2516715\ttotal: 3.09s\tremaining: 7.98s\n",
            "279:\tlearn: 0.2509004\ttotal: 3.1s\tremaining: 7.97s\n",
            "280:\tlearn: 0.2502505\ttotal: 3.11s\tremaining: 7.96s\n",
            "281:\tlearn: 0.2496410\ttotal: 3.12s\tremaining: 7.94s\n",
            "282:\tlearn: 0.2488811\ttotal: 3.13s\tremaining: 7.94s\n",
            "283:\tlearn: 0.2480066\ttotal: 3.14s\tremaining: 7.93s\n",
            "284:\tlearn: 0.2473473\ttotal: 3.15s\tremaining: 7.91s\n",
            "285:\tlearn: 0.2465414\ttotal: 3.17s\tremaining: 7.91s\n",
            "286:\tlearn: 0.2459110\ttotal: 3.18s\tremaining: 7.89s\n",
            "287:\tlearn: 0.2451935\ttotal: 3.19s\tremaining: 7.88s\n",
            "288:\tlearn: 0.2443361\ttotal: 3.2s\tremaining: 7.86s\n",
            "289:\tlearn: 0.2435333\ttotal: 3.21s\tremaining: 7.85s\n",
            "290:\tlearn: 0.2431295\ttotal: 3.21s\tremaining: 7.83s\n",
            "291:\tlearn: 0.2425336\ttotal: 3.23s\tremaining: 7.82s\n",
            "292:\tlearn: 0.2417230\ttotal: 3.23s\tremaining: 7.81s\n",
            "293:\tlearn: 0.2412717\ttotal: 3.24s\tremaining: 7.79s\n",
            "294:\tlearn: 0.2404479\ttotal: 3.25s\tremaining: 7.78s\n",
            "295:\tlearn: 0.2395889\ttotal: 3.26s\tremaining: 7.76s\n",
            "296:\tlearn: 0.2388967\ttotal: 3.27s\tremaining: 7.75s\n",
            "297:\tlearn: 0.2381829\ttotal: 3.28s\tremaining: 7.73s\n",
            "298:\tlearn: 0.2376292\ttotal: 3.29s\tremaining: 7.72s\n",
            "299:\tlearn: 0.2371372\ttotal: 3.31s\tremaining: 7.71s\n",
            "300:\tlearn: 0.2364171\ttotal: 3.31s\tremaining: 7.7s\n",
            "301:\tlearn: 0.2358205\ttotal: 3.32s\tremaining: 7.68s\n",
            "302:\tlearn: 0.2351491\ttotal: 3.33s\tremaining: 7.67s\n",
            "303:\tlearn: 0.2344918\ttotal: 3.34s\tremaining: 7.66s\n",
            "304:\tlearn: 0.2338682\ttotal: 3.35s\tremaining: 7.64s\n",
            "305:\tlearn: 0.2330817\ttotal: 3.36s\tremaining: 7.63s\n",
            "306:\tlearn: 0.2325187\ttotal: 3.37s\tremaining: 7.62s\n",
            "307:\tlearn: 0.2319879\ttotal: 3.38s\tremaining: 7.6s\n",
            "308:\tlearn: 0.2315944\ttotal: 3.39s\tremaining: 7.59s\n",
            "309:\tlearn: 0.2311120\ttotal: 3.4s\tremaining: 7.57s\n",
            "310:\tlearn: 0.2304606\ttotal: 3.41s\tremaining: 7.56s\n",
            "311:\tlearn: 0.2298337\ttotal: 3.42s\tremaining: 7.54s\n",
            "312:\tlearn: 0.2292901\ttotal: 3.43s\tremaining: 7.53s\n",
            "313:\tlearn: 0.2285683\ttotal: 3.44s\tremaining: 7.51s\n",
            "314:\tlearn: 0.2280504\ttotal: 3.45s\tremaining: 7.5s\n",
            "315:\tlearn: 0.2273085\ttotal: 3.46s\tremaining: 7.49s\n",
            "316:\tlearn: 0.2265964\ttotal: 3.47s\tremaining: 7.47s\n",
            "317:\tlearn: 0.2260628\ttotal: 3.48s\tremaining: 7.46s\n",
            "318:\tlearn: 0.2255083\ttotal: 3.49s\tremaining: 7.45s\n",
            "319:\tlearn: 0.2248254\ttotal: 3.5s\tremaining: 7.43s\n",
            "320:\tlearn: 0.2241651\ttotal: 3.51s\tremaining: 7.43s\n",
            "321:\tlearn: 0.2235800\ttotal: 3.52s\tremaining: 7.41s\n",
            "322:\tlearn: 0.2229904\ttotal: 3.53s\tremaining: 7.4s\n",
            "323:\tlearn: 0.2222597\ttotal: 3.54s\tremaining: 7.39s\n",
            "324:\tlearn: 0.2219189\ttotal: 3.55s\tremaining: 7.37s\n",
            "325:\tlearn: 0.2212138\ttotal: 3.56s\tremaining: 7.36s\n",
            "326:\tlearn: 0.2204513\ttotal: 3.57s\tremaining: 7.35s\n",
            "327:\tlearn: 0.2199496\ttotal: 3.58s\tremaining: 7.33s\n",
            "328:\tlearn: 0.2192570\ttotal: 3.59s\tremaining: 7.32s\n",
            "329:\tlearn: 0.2187804\ttotal: 3.6s\tremaining: 7.31s\n",
            "330:\tlearn: 0.2182686\ttotal: 3.61s\tremaining: 7.3s\n",
            "331:\tlearn: 0.2175800\ttotal: 3.62s\tremaining: 7.29s\n",
            "332:\tlearn: 0.2168651\ttotal: 3.63s\tremaining: 7.28s\n",
            "333:\tlearn: 0.2164240\ttotal: 3.64s\tremaining: 7.26s\n",
            "334:\tlearn: 0.2158856\ttotal: 3.65s\tremaining: 7.25s\n",
            "335:\tlearn: 0.2154264\ttotal: 3.66s\tremaining: 7.23s\n",
            "336:\tlearn: 0.2147123\ttotal: 3.67s\tremaining: 7.22s\n",
            "337:\tlearn: 0.2143188\ttotal: 3.68s\tremaining: 7.21s\n",
            "338:\tlearn: 0.2138530\ttotal: 3.69s\tremaining: 7.19s\n",
            "339:\tlearn: 0.2132786\ttotal: 3.7s\tremaining: 7.18s\n",
            "340:\tlearn: 0.2127060\ttotal: 3.71s\tremaining: 7.17s\n",
            "341:\tlearn: 0.2120937\ttotal: 3.72s\tremaining: 7.16s\n",
            "342:\tlearn: 0.2114702\ttotal: 3.73s\tremaining: 7.15s\n",
            "343:\tlearn: 0.2109133\ttotal: 3.74s\tremaining: 7.13s\n",
            "344:\tlearn: 0.2104276\ttotal: 3.75s\tremaining: 7.12s\n",
            "345:\tlearn: 0.2098062\ttotal: 3.76s\tremaining: 7.11s\n",
            "346:\tlearn: 0.2091480\ttotal: 3.77s\tremaining: 7.1s\n",
            "347:\tlearn: 0.2087834\ttotal: 3.78s\tremaining: 7.08s\n",
            "348:\tlearn: 0.2081609\ttotal: 3.79s\tremaining: 7.07s\n",
            "349:\tlearn: 0.2076100\ttotal: 3.8s\tremaining: 7.06s\n",
            "350:\tlearn: 0.2070481\ttotal: 3.81s\tremaining: 7.04s\n",
            "351:\tlearn: 0.2065223\ttotal: 3.82s\tremaining: 7.03s\n",
            "352:\tlearn: 0.2059726\ttotal: 3.83s\tremaining: 7.02s\n",
            "353:\tlearn: 0.2054246\ttotal: 3.84s\tremaining: 7s\n",
            "354:\tlearn: 0.2047463\ttotal: 3.85s\tremaining: 6.99s\n",
            "355:\tlearn: 0.2041619\ttotal: 3.86s\tremaining: 6.99s\n",
            "356:\tlearn: 0.2036358\ttotal: 3.87s\tremaining: 6.97s\n",
            "357:\tlearn: 0.2030284\ttotal: 3.88s\tremaining: 6.96s\n",
            "358:\tlearn: 0.2026841\ttotal: 3.89s\tremaining: 6.95s\n",
            "359:\tlearn: 0.2022991\ttotal: 3.9s\tremaining: 6.93s\n",
            "360:\tlearn: 0.2016847\ttotal: 3.92s\tremaining: 6.94s\n",
            "361:\tlearn: 0.2010681\ttotal: 3.94s\tremaining: 6.95s\n",
            "362:\tlearn: 0.2003964\ttotal: 3.95s\tremaining: 6.93s\n",
            "363:\tlearn: 0.1998374\ttotal: 3.96s\tremaining: 6.92s\n",
            "364:\tlearn: 0.1993720\ttotal: 3.97s\tremaining: 6.91s\n",
            "365:\tlearn: 0.1990476\ttotal: 3.98s\tremaining: 6.89s\n",
            "366:\tlearn: 0.1985154\ttotal: 3.99s\tremaining: 6.88s\n",
            "367:\tlearn: 0.1981607\ttotal: 4s\tremaining: 6.87s\n",
            "368:\tlearn: 0.1976343\ttotal: 4.01s\tremaining: 6.86s\n",
            "369:\tlearn: 0.1971086\ttotal: 4.02s\tremaining: 6.84s\n",
            "370:\tlearn: 0.1967635\ttotal: 4.03s\tremaining: 6.83s\n",
            "371:\tlearn: 0.1963130\ttotal: 4.04s\tremaining: 6.82s\n",
            "372:\tlearn: 0.1957055\ttotal: 4.05s\tremaining: 6.81s\n",
            "373:\tlearn: 0.1953551\ttotal: 4.06s\tremaining: 6.79s\n",
            "374:\tlearn: 0.1950230\ttotal: 4.07s\tremaining: 6.78s\n",
            "375:\tlearn: 0.1946779\ttotal: 4.08s\tremaining: 6.76s\n",
            "376:\tlearn: 0.1943158\ttotal: 4.08s\tremaining: 6.75s\n",
            "377:\tlearn: 0.1938428\ttotal: 4.1s\tremaining: 6.74s\n",
            "378:\tlearn: 0.1932443\ttotal: 4.11s\tremaining: 6.74s\n",
            "379:\tlearn: 0.1928479\ttotal: 4.13s\tremaining: 6.73s\n",
            "380:\tlearn: 0.1922781\ttotal: 4.14s\tremaining: 6.73s\n",
            "381:\tlearn: 0.1917359\ttotal: 4.15s\tremaining: 6.71s\n",
            "382:\tlearn: 0.1913563\ttotal: 4.16s\tremaining: 6.7s\n",
            "383:\tlearn: 0.1908816\ttotal: 4.17s\tremaining: 6.69s\n",
            "384:\tlearn: 0.1903210\ttotal: 4.18s\tremaining: 6.68s\n",
            "385:\tlearn: 0.1897623\ttotal: 4.19s\tremaining: 6.67s\n",
            "386:\tlearn: 0.1892759\ttotal: 4.2s\tremaining: 6.65s\n",
            "387:\tlearn: 0.1887211\ttotal: 4.21s\tremaining: 6.64s\n",
            "388:\tlearn: 0.1883362\ttotal: 4.22s\tremaining: 6.63s\n",
            "389:\tlearn: 0.1879820\ttotal: 4.23s\tremaining: 6.61s\n",
            "390:\tlearn: 0.1876077\ttotal: 4.24s\tremaining: 6.6s\n",
            "391:\tlearn: 0.1873314\ttotal: 4.25s\tremaining: 6.59s\n",
            "392:\tlearn: 0.1869246\ttotal: 4.26s\tremaining: 6.57s\n",
            "393:\tlearn: 0.1864556\ttotal: 4.27s\tremaining: 6.56s\n",
            "394:\tlearn: 0.1860538\ttotal: 4.28s\tremaining: 6.55s\n",
            "395:\tlearn: 0.1855867\ttotal: 4.29s\tremaining: 6.54s\n",
            "396:\tlearn: 0.1850391\ttotal: 4.3s\tremaining: 6.53s\n",
            "397:\tlearn: 0.1845909\ttotal: 4.3s\tremaining: 6.51s\n",
            "398:\tlearn: 0.1841286\ttotal: 4.32s\tremaining: 6.5s\n",
            "399:\tlearn: 0.1836379\ttotal: 4.33s\tremaining: 6.5s\n",
            "400:\tlearn: 0.1831338\ttotal: 4.34s\tremaining: 6.48s\n",
            "401:\tlearn: 0.1826479\ttotal: 4.35s\tremaining: 6.47s\n",
            "402:\tlearn: 0.1823172\ttotal: 4.36s\tremaining: 6.46s\n",
            "403:\tlearn: 0.1818398\ttotal: 4.37s\tremaining: 6.45s\n",
            "404:\tlearn: 0.1815282\ttotal: 4.38s\tremaining: 6.43s\n",
            "405:\tlearn: 0.1811796\ttotal: 4.39s\tremaining: 6.42s\n",
            "406:\tlearn: 0.1806638\ttotal: 4.4s\tremaining: 6.41s\n",
            "407:\tlearn: 0.1803178\ttotal: 4.41s\tremaining: 6.4s\n",
            "408:\tlearn: 0.1798643\ttotal: 4.42s\tremaining: 6.38s\n",
            "409:\tlearn: 0.1795616\ttotal: 4.43s\tremaining: 6.37s\n",
            "410:\tlearn: 0.1790324\ttotal: 4.44s\tremaining: 6.36s\n",
            "411:\tlearn: 0.1787235\ttotal: 4.45s\tremaining: 6.35s\n",
            "412:\tlearn: 0.1782146\ttotal: 4.46s\tremaining: 6.34s\n",
            "413:\tlearn: 0.1777313\ttotal: 4.47s\tremaining: 6.32s\n",
            "414:\tlearn: 0.1772558\ttotal: 4.48s\tremaining: 6.31s\n",
            "415:\tlearn: 0.1768078\ttotal: 4.49s\tremaining: 6.3s\n",
            "416:\tlearn: 0.1763213\ttotal: 4.5s\tremaining: 6.29s\n",
            "417:\tlearn: 0.1759540\ttotal: 4.51s\tremaining: 6.28s\n",
            "418:\tlearn: 0.1755719\ttotal: 4.52s\tremaining: 6.26s\n",
            "419:\tlearn: 0.1750526\ttotal: 4.53s\tremaining: 6.26s\n",
            "420:\tlearn: 0.1746348\ttotal: 4.54s\tremaining: 6.25s\n",
            "421:\tlearn: 0.1741843\ttotal: 4.55s\tremaining: 6.24s\n",
            "422:\tlearn: 0.1737974\ttotal: 4.56s\tremaining: 6.22s\n",
            "423:\tlearn: 0.1732376\ttotal: 4.57s\tremaining: 6.21s\n",
            "424:\tlearn: 0.1729244\ttotal: 4.58s\tremaining: 6.2s\n",
            "425:\tlearn: 0.1725624\ttotal: 4.59s\tremaining: 6.19s\n",
            "426:\tlearn: 0.1722610\ttotal: 4.61s\tremaining: 6.18s\n",
            "427:\tlearn: 0.1718516\ttotal: 4.62s\tremaining: 6.17s\n",
            "428:\tlearn: 0.1715696\ttotal: 4.63s\tremaining: 6.16s\n",
            "429:\tlearn: 0.1710823\ttotal: 4.64s\tremaining: 6.15s\n",
            "430:\tlearn: 0.1706971\ttotal: 4.65s\tremaining: 6.14s\n",
            "431:\tlearn: 0.1702151\ttotal: 4.66s\tremaining: 6.13s\n",
            "432:\tlearn: 0.1697988\ttotal: 4.67s\tremaining: 6.12s\n",
            "433:\tlearn: 0.1693073\ttotal: 4.68s\tremaining: 6.11s\n",
            "434:\tlearn: 0.1688914\ttotal: 4.69s\tremaining: 6.09s\n",
            "435:\tlearn: 0.1684044\ttotal: 4.7s\tremaining: 6.08s\n",
            "436:\tlearn: 0.1678879\ttotal: 4.71s\tremaining: 6.07s\n",
            "437:\tlearn: 0.1674331\ttotal: 4.72s\tremaining: 6.06s\n",
            "438:\tlearn: 0.1670022\ttotal: 4.74s\tremaining: 6.05s\n",
            "439:\tlearn: 0.1664652\ttotal: 4.75s\tremaining: 6.04s\n",
            "440:\tlearn: 0.1660486\ttotal: 4.76s\tremaining: 6.03s\n",
            "441:\tlearn: 0.1656544\ttotal: 4.77s\tremaining: 6.02s\n",
            "442:\tlearn: 0.1651670\ttotal: 4.78s\tremaining: 6.01s\n",
            "443:\tlearn: 0.1648536\ttotal: 4.79s\tremaining: 5.99s\n",
            "444:\tlearn: 0.1645566\ttotal: 4.79s\tremaining: 5.98s\n",
            "445:\tlearn: 0.1642041\ttotal: 4.8s\tremaining: 5.97s\n",
            "446:\tlearn: 0.1638007\ttotal: 4.82s\tremaining: 5.96s\n",
            "447:\tlearn: 0.1634277\ttotal: 4.82s\tremaining: 5.94s\n",
            "448:\tlearn: 0.1631725\ttotal: 4.83s\tremaining: 5.93s\n",
            "449:\tlearn: 0.1629177\ttotal: 4.84s\tremaining: 5.92s\n",
            "450:\tlearn: 0.1625357\ttotal: 4.86s\tremaining: 5.91s\n",
            "451:\tlearn: 0.1621662\ttotal: 4.86s\tremaining: 5.9s\n",
            "452:\tlearn: 0.1617124\ttotal: 4.87s\tremaining: 5.88s\n",
            "453:\tlearn: 0.1613685\ttotal: 4.88s\tremaining: 5.87s\n",
            "454:\tlearn: 0.1608720\ttotal: 4.89s\tremaining: 5.86s\n",
            "455:\tlearn: 0.1605148\ttotal: 4.9s\tremaining: 5.85s\n",
            "456:\tlearn: 0.1601231\ttotal: 4.92s\tremaining: 5.84s\n",
            "457:\tlearn: 0.1596861\ttotal: 4.95s\tremaining: 5.86s\n",
            "458:\tlearn: 0.1592724\ttotal: 4.96s\tremaining: 5.85s\n",
            "459:\tlearn: 0.1589433\ttotal: 4.97s\tremaining: 5.84s\n",
            "460:\tlearn: 0.1585346\ttotal: 4.99s\tremaining: 5.83s\n",
            "461:\tlearn: 0.1581666\ttotal: 5s\tremaining: 5.82s\n",
            "462:\tlearn: 0.1578287\ttotal: 5.01s\tremaining: 5.81s\n",
            "463:\tlearn: 0.1574613\ttotal: 5.02s\tremaining: 5.8s\n",
            "464:\tlearn: 0.1572753\ttotal: 5.04s\tremaining: 5.79s\n",
            "465:\tlearn: 0.1569268\ttotal: 5.05s\tremaining: 5.79s\n",
            "466:\tlearn: 0.1566025\ttotal: 5.06s\tremaining: 5.78s\n",
            "467:\tlearn: 0.1563430\ttotal: 5.07s\tremaining: 5.76s\n",
            "468:\tlearn: 0.1559140\ttotal: 5.08s\tremaining: 5.76s\n",
            "469:\tlearn: 0.1555359\ttotal: 5.09s\tremaining: 5.75s\n",
            "470:\tlearn: 0.1552465\ttotal: 5.11s\tremaining: 5.74s\n",
            "471:\tlearn: 0.1548580\ttotal: 5.12s\tremaining: 5.73s\n",
            "472:\tlearn: 0.1545689\ttotal: 5.13s\tremaining: 5.72s\n",
            "473:\tlearn: 0.1542174\ttotal: 5.14s\tremaining: 5.71s\n",
            "474:\tlearn: 0.1538958\ttotal: 5.16s\tremaining: 5.7s\n",
            "475:\tlearn: 0.1535472\ttotal: 5.18s\tremaining: 5.7s\n",
            "476:\tlearn: 0.1531329\ttotal: 5.19s\tremaining: 5.69s\n",
            "477:\tlearn: 0.1527415\ttotal: 5.2s\tremaining: 5.68s\n",
            "478:\tlearn: 0.1523462\ttotal: 5.22s\tremaining: 5.68s\n",
            "479:\tlearn: 0.1521355\ttotal: 5.23s\tremaining: 5.67s\n",
            "480:\tlearn: 0.1517389\ttotal: 5.25s\tremaining: 5.66s\n",
            "481:\tlearn: 0.1514500\ttotal: 5.26s\tremaining: 5.65s\n",
            "482:\tlearn: 0.1511953\ttotal: 5.27s\tremaining: 5.64s\n",
            "483:\tlearn: 0.1508230\ttotal: 5.28s\tremaining: 5.63s\n",
            "484:\tlearn: 0.1505874\ttotal: 5.29s\tremaining: 5.62s\n",
            "485:\tlearn: 0.1503264\ttotal: 5.3s\tremaining: 5.61s\n",
            "486:\tlearn: 0.1500112\ttotal: 5.32s\tremaining: 5.6s\n",
            "487:\tlearn: 0.1497713\ttotal: 5.33s\tremaining: 5.59s\n",
            "488:\tlearn: 0.1493519\ttotal: 5.34s\tremaining: 5.58s\n",
            "489:\tlearn: 0.1489700\ttotal: 5.35s\tremaining: 5.57s\n",
            "490:\tlearn: 0.1485360\ttotal: 5.37s\tremaining: 5.57s\n",
            "491:\tlearn: 0.1482147\ttotal: 5.38s\tremaining: 5.56s\n",
            "492:\tlearn: 0.1479962\ttotal: 5.39s\tremaining: 5.55s\n",
            "493:\tlearn: 0.1476599\ttotal: 5.41s\tremaining: 5.54s\n",
            "494:\tlearn: 0.1474235\ttotal: 5.42s\tremaining: 5.53s\n",
            "495:\tlearn: 0.1470226\ttotal: 5.43s\tremaining: 5.52s\n",
            "496:\tlearn: 0.1467472\ttotal: 5.45s\tremaining: 5.51s\n",
            "497:\tlearn: 0.1464863\ttotal: 5.46s\tremaining: 5.5s\n",
            "498:\tlearn: 0.1462692\ttotal: 5.47s\tremaining: 5.49s\n",
            "499:\tlearn: 0.1460606\ttotal: 5.48s\tremaining: 5.48s\n",
            "500:\tlearn: 0.1458154\ttotal: 5.49s\tremaining: 5.47s\n",
            "501:\tlearn: 0.1454715\ttotal: 5.5s\tremaining: 5.46s\n",
            "502:\tlearn: 0.1451404\ttotal: 5.52s\tremaining: 5.45s\n",
            "503:\tlearn: 0.1448336\ttotal: 5.53s\tremaining: 5.44s\n",
            "504:\tlearn: 0.1445157\ttotal: 5.54s\tremaining: 5.43s\n",
            "505:\tlearn: 0.1441672\ttotal: 5.55s\tremaining: 5.42s\n",
            "506:\tlearn: 0.1438762\ttotal: 5.57s\tremaining: 5.41s\n",
            "507:\tlearn: 0.1435504\ttotal: 5.58s\tremaining: 5.41s\n",
            "508:\tlearn: 0.1433689\ttotal: 5.59s\tremaining: 5.39s\n",
            "509:\tlearn: 0.1430277\ttotal: 5.61s\tremaining: 5.38s\n",
            "510:\tlearn: 0.1426649\ttotal: 5.62s\tremaining: 5.38s\n",
            "511:\tlearn: 0.1424396\ttotal: 5.63s\tremaining: 5.37s\n",
            "512:\tlearn: 0.1420861\ttotal: 5.64s\tremaining: 5.36s\n",
            "513:\tlearn: 0.1417648\ttotal: 5.66s\tremaining: 5.35s\n",
            "514:\tlearn: 0.1414742\ttotal: 5.67s\tremaining: 5.34s\n",
            "515:\tlearn: 0.1410976\ttotal: 5.68s\tremaining: 5.33s\n",
            "516:\tlearn: 0.1407627\ttotal: 5.7s\tremaining: 5.32s\n",
            "517:\tlearn: 0.1403916\ttotal: 5.71s\tremaining: 5.31s\n",
            "518:\tlearn: 0.1400496\ttotal: 5.72s\tremaining: 5.3s\n",
            "519:\tlearn: 0.1396690\ttotal: 5.74s\tremaining: 5.29s\n",
            "520:\tlearn: 0.1394485\ttotal: 5.75s\tremaining: 5.28s\n",
            "521:\tlearn: 0.1391165\ttotal: 5.76s\tremaining: 5.27s\n",
            "522:\tlearn: 0.1387412\ttotal: 5.77s\tremaining: 5.26s\n",
            "523:\tlearn: 0.1384843\ttotal: 5.79s\tremaining: 5.26s\n",
            "524:\tlearn: 0.1381393\ttotal: 5.81s\tremaining: 5.25s\n",
            "525:\tlearn: 0.1377989\ttotal: 5.82s\tremaining: 5.24s\n",
            "526:\tlearn: 0.1374265\ttotal: 5.83s\tremaining: 5.23s\n",
            "527:\tlearn: 0.1371249\ttotal: 5.84s\tremaining: 5.22s\n",
            "528:\tlearn: 0.1368281\ttotal: 5.86s\tremaining: 5.21s\n",
            "529:\tlearn: 0.1366754\ttotal: 5.87s\tremaining: 5.2s\n",
            "530:\tlearn: 0.1364936\ttotal: 5.88s\tremaining: 5.19s\n",
            "531:\tlearn: 0.1361745\ttotal: 5.89s\tremaining: 5.18s\n",
            "532:\tlearn: 0.1358828\ttotal: 5.91s\tremaining: 5.18s\n",
            "533:\tlearn: 0.1356562\ttotal: 5.92s\tremaining: 5.17s\n",
            "534:\tlearn: 0.1353815\ttotal: 5.94s\tremaining: 5.16s\n",
            "535:\tlearn: 0.1351834\ttotal: 5.96s\tremaining: 5.16s\n",
            "536:\tlearn: 0.1348627\ttotal: 5.97s\tremaining: 5.15s\n",
            "537:\tlearn: 0.1345196\ttotal: 5.98s\tremaining: 5.14s\n",
            "538:\tlearn: 0.1341593\ttotal: 6s\tremaining: 5.13s\n",
            "539:\tlearn: 0.1339215\ttotal: 6.01s\tremaining: 5.12s\n",
            "540:\tlearn: 0.1337007\ttotal: 6.02s\tremaining: 5.11s\n",
            "541:\tlearn: 0.1333289\ttotal: 6.03s\tremaining: 5.1s\n",
            "542:\tlearn: 0.1329890\ttotal: 6.04s\tremaining: 5.09s\n",
            "543:\tlearn: 0.1326288\ttotal: 6.06s\tremaining: 5.08s\n",
            "544:\tlearn: 0.1323887\ttotal: 6.07s\tremaining: 5.07s\n",
            "545:\tlearn: 0.1320369\ttotal: 6.08s\tremaining: 5.06s\n",
            "546:\tlearn: 0.1318027\ttotal: 6.09s\tremaining: 5.05s\n",
            "547:\tlearn: 0.1316110\ttotal: 6.11s\tremaining: 5.04s\n",
            "548:\tlearn: 0.1313219\ttotal: 6.12s\tremaining: 5.03s\n",
            "549:\tlearn: 0.1311111\ttotal: 6.13s\tremaining: 5.01s\n",
            "550:\tlearn: 0.1309853\ttotal: 6.14s\tremaining: 5s\n",
            "551:\tlearn: 0.1307685\ttotal: 6.15s\tremaining: 4.99s\n",
            "552:\tlearn: 0.1305870\ttotal: 6.17s\tremaining: 4.98s\n",
            "553:\tlearn: 0.1303041\ttotal: 6.18s\tremaining: 4.97s\n",
            "554:\tlearn: 0.1301089\ttotal: 6.19s\tremaining: 4.96s\n",
            "555:\tlearn: 0.1298533\ttotal: 6.21s\tremaining: 4.96s\n",
            "556:\tlearn: 0.1295707\ttotal: 6.22s\tremaining: 4.94s\n",
            "557:\tlearn: 0.1293174\ttotal: 6.23s\tremaining: 4.93s\n",
            "558:\tlearn: 0.1290493\ttotal: 6.24s\tremaining: 4.92s\n",
            "559:\tlearn: 0.1287873\ttotal: 6.25s\tremaining: 4.91s\n",
            "560:\tlearn: 0.1285409\ttotal: 6.26s\tremaining: 4.9s\n",
            "561:\tlearn: 0.1283526\ttotal: 6.28s\tremaining: 4.89s\n",
            "562:\tlearn: 0.1280916\ttotal: 6.29s\tremaining: 4.88s\n",
            "563:\tlearn: 0.1278268\ttotal: 6.3s\tremaining: 4.87s\n",
            "564:\tlearn: 0.1275005\ttotal: 6.31s\tremaining: 4.86s\n",
            "565:\tlearn: 0.1272459\ttotal: 6.32s\tremaining: 4.85s\n",
            "566:\tlearn: 0.1270367\ttotal: 6.33s\tremaining: 4.84s\n",
            "567:\tlearn: 0.1267249\ttotal: 6.34s\tremaining: 4.83s\n",
            "568:\tlearn: 0.1264217\ttotal: 6.36s\tremaining: 4.82s\n",
            "569:\tlearn: 0.1262666\ttotal: 6.37s\tremaining: 4.8s\n",
            "570:\tlearn: 0.1259979\ttotal: 6.38s\tremaining: 4.79s\n",
            "571:\tlearn: 0.1258406\ttotal: 6.39s\tremaining: 4.78s\n",
            "572:\tlearn: 0.1257019\ttotal: 6.41s\tremaining: 4.77s\n",
            "573:\tlearn: 0.1254986\ttotal: 6.42s\tremaining: 4.76s\n",
            "574:\tlearn: 0.1253569\ttotal: 6.42s\tremaining: 4.75s\n",
            "575:\tlearn: 0.1250411\ttotal: 6.43s\tremaining: 4.74s\n",
            "576:\tlearn: 0.1248538\ttotal: 6.44s\tremaining: 4.72s\n",
            "577:\tlearn: 0.1245101\ttotal: 6.45s\tremaining: 4.71s\n",
            "578:\tlearn: 0.1241678\ttotal: 6.46s\tremaining: 4.7s\n",
            "579:\tlearn: 0.1239676\ttotal: 6.47s\tremaining: 4.69s\n",
            "580:\tlearn: 0.1236873\ttotal: 6.48s\tremaining: 4.67s\n",
            "581:\tlearn: 0.1234212\ttotal: 6.49s\tremaining: 4.66s\n",
            "582:\tlearn: 0.1232630\ttotal: 6.5s\tremaining: 4.65s\n",
            "583:\tlearn: 0.1229915\ttotal: 6.51s\tremaining: 4.64s\n",
            "584:\tlearn: 0.1226552\ttotal: 6.52s\tremaining: 4.63s\n",
            "585:\tlearn: 0.1224868\ttotal: 6.53s\tremaining: 4.62s\n",
            "586:\tlearn: 0.1221993\ttotal: 6.54s\tremaining: 4.6s\n",
            "587:\tlearn: 0.1218921\ttotal: 6.55s\tremaining: 4.59s\n",
            "588:\tlearn: 0.1216024\ttotal: 6.57s\tremaining: 4.58s\n",
            "589:\tlearn: 0.1213560\ttotal: 6.58s\tremaining: 4.57s\n",
            "590:\tlearn: 0.1211385\ttotal: 6.59s\tremaining: 4.56s\n",
            "591:\tlearn: 0.1208640\ttotal: 6.6s\tremaining: 4.55s\n",
            "592:\tlearn: 0.1205798\ttotal: 6.61s\tremaining: 4.54s\n",
            "593:\tlearn: 0.1202932\ttotal: 6.63s\tremaining: 4.53s\n",
            "594:\tlearn: 0.1199990\ttotal: 6.63s\tremaining: 4.52s\n",
            "595:\tlearn: 0.1197080\ttotal: 6.65s\tremaining: 4.5s\n",
            "596:\tlearn: 0.1194713\ttotal: 6.66s\tremaining: 4.49s\n",
            "597:\tlearn: 0.1192673\ttotal: 6.67s\tremaining: 4.48s\n",
            "598:\tlearn: 0.1190277\ttotal: 6.68s\tremaining: 4.47s\n",
            "599:\tlearn: 0.1187905\ttotal: 6.69s\tremaining: 4.46s\n",
            "600:\tlearn: 0.1185539\ttotal: 6.7s\tremaining: 4.45s\n",
            "601:\tlearn: 0.1182782\ttotal: 6.71s\tremaining: 4.44s\n",
            "602:\tlearn: 0.1180509\ttotal: 6.72s\tremaining: 4.42s\n",
            "603:\tlearn: 0.1178615\ttotal: 6.73s\tremaining: 4.41s\n",
            "604:\tlearn: 0.1176048\ttotal: 6.74s\tremaining: 4.4s\n",
            "605:\tlearn: 0.1173051\ttotal: 6.75s\tremaining: 4.39s\n",
            "606:\tlearn: 0.1170634\ttotal: 6.76s\tremaining: 4.38s\n",
            "607:\tlearn: 0.1168663\ttotal: 6.77s\tremaining: 4.37s\n",
            "608:\tlearn: 0.1166336\ttotal: 6.78s\tremaining: 4.36s\n",
            "609:\tlearn: 0.1164624\ttotal: 6.79s\tremaining: 4.34s\n",
            "610:\tlearn: 0.1162641\ttotal: 6.8s\tremaining: 4.33s\n",
            "611:\tlearn: 0.1159373\ttotal: 6.82s\tremaining: 4.32s\n",
            "612:\tlearn: 0.1157727\ttotal: 6.83s\tremaining: 4.31s\n",
            "613:\tlearn: 0.1155280\ttotal: 6.84s\tremaining: 4.3s\n",
            "614:\tlearn: 0.1153305\ttotal: 6.85s\tremaining: 4.29s\n",
            "615:\tlearn: 0.1151987\ttotal: 6.86s\tremaining: 4.28s\n",
            "616:\tlearn: 0.1149070\ttotal: 6.87s\tremaining: 4.27s\n",
            "617:\tlearn: 0.1146472\ttotal: 6.89s\tremaining: 4.26s\n",
            "618:\tlearn: 0.1145484\ttotal: 6.9s\tremaining: 4.25s\n",
            "619:\tlearn: 0.1142395\ttotal: 6.91s\tremaining: 4.24s\n",
            "620:\tlearn: 0.1140520\ttotal: 6.92s\tremaining: 4.22s\n",
            "621:\tlearn: 0.1138489\ttotal: 6.93s\tremaining: 4.21s\n",
            "622:\tlearn: 0.1136344\ttotal: 6.96s\tremaining: 4.21s\n",
            "623:\tlearn: 0.1135017\ttotal: 6.97s\tremaining: 4.2s\n",
            "624:\tlearn: 0.1132736\ttotal: 6.98s\tremaining: 4.19s\n",
            "625:\tlearn: 0.1130859\ttotal: 6.99s\tremaining: 4.18s\n",
            "626:\tlearn: 0.1129122\ttotal: 7s\tremaining: 4.16s\n",
            "627:\tlearn: 0.1126378\ttotal: 7.01s\tremaining: 4.15s\n",
            "628:\tlearn: 0.1124388\ttotal: 7.03s\tremaining: 4.14s\n",
            "629:\tlearn: 0.1122690\ttotal: 7.04s\tremaining: 4.13s\n",
            "630:\tlearn: 0.1120697\ttotal: 7.04s\tremaining: 4.12s\n",
            "631:\tlearn: 0.1119211\ttotal: 7.06s\tremaining: 4.11s\n",
            "632:\tlearn: 0.1116564\ttotal: 7.07s\tremaining: 4.1s\n",
            "633:\tlearn: 0.1114205\ttotal: 7.08s\tremaining: 4.08s\n",
            "634:\tlearn: 0.1111630\ttotal: 7.09s\tremaining: 4.07s\n",
            "635:\tlearn: 0.1110180\ttotal: 7.1s\tremaining: 4.06s\n",
            "636:\tlearn: 0.1108289\ttotal: 7.11s\tremaining: 4.05s\n",
            "637:\tlearn: 0.1105555\ttotal: 7.12s\tremaining: 4.04s\n",
            "638:\tlearn: 0.1102620\ttotal: 7.13s\tremaining: 4.03s\n",
            "639:\tlearn: 0.1100515\ttotal: 7.14s\tremaining: 4.02s\n",
            "640:\tlearn: 0.1098196\ttotal: 7.15s\tremaining: 4s\n",
            "641:\tlearn: 0.1096228\ttotal: 7.16s\tremaining: 3.99s\n",
            "642:\tlearn: 0.1093419\ttotal: 7.17s\tremaining: 3.98s\n",
            "643:\tlearn: 0.1091638\ttotal: 7.18s\tremaining: 3.97s\n",
            "644:\tlearn: 0.1089150\ttotal: 7.19s\tremaining: 3.96s\n",
            "645:\tlearn: 0.1086709\ttotal: 7.21s\tremaining: 3.95s\n",
            "646:\tlearn: 0.1084431\ttotal: 7.22s\tremaining: 3.94s\n",
            "647:\tlearn: 0.1082961\ttotal: 7.23s\tremaining: 3.93s\n",
            "648:\tlearn: 0.1080346\ttotal: 7.24s\tremaining: 3.92s\n",
            "649:\tlearn: 0.1078283\ttotal: 7.25s\tremaining: 3.9s\n",
            "650:\tlearn: 0.1075717\ttotal: 7.26s\tremaining: 3.89s\n",
            "651:\tlearn: 0.1072797\ttotal: 7.27s\tremaining: 3.88s\n",
            "652:\tlearn: 0.1071144\ttotal: 7.28s\tremaining: 3.87s\n",
            "653:\tlearn: 0.1070066\ttotal: 7.29s\tremaining: 3.86s\n",
            "654:\tlearn: 0.1068304\ttotal: 7.3s\tremaining: 3.85s\n",
            "655:\tlearn: 0.1066371\ttotal: 7.31s\tremaining: 3.83s\n",
            "656:\tlearn: 0.1064701\ttotal: 7.32s\tremaining: 3.82s\n",
            "657:\tlearn: 0.1062736\ttotal: 7.33s\tremaining: 3.81s\n",
            "658:\tlearn: 0.1060431\ttotal: 7.34s\tremaining: 3.8s\n",
            "659:\tlearn: 0.1058527\ttotal: 7.35s\tremaining: 3.79s\n",
            "660:\tlearn: 0.1056875\ttotal: 7.37s\tremaining: 3.78s\n",
            "661:\tlearn: 0.1055139\ttotal: 7.38s\tremaining: 3.77s\n",
            "662:\tlearn: 0.1053028\ttotal: 7.39s\tremaining: 3.76s\n",
            "663:\tlearn: 0.1050555\ttotal: 7.4s\tremaining: 3.75s\n",
            "664:\tlearn: 0.1049511\ttotal: 7.41s\tremaining: 3.73s\n",
            "665:\tlearn: 0.1047258\ttotal: 7.42s\tremaining: 3.72s\n",
            "666:\tlearn: 0.1045396\ttotal: 7.44s\tremaining: 3.71s\n",
            "667:\tlearn: 0.1042990\ttotal: 7.45s\tremaining: 3.7s\n",
            "668:\tlearn: 0.1040857\ttotal: 7.46s\tremaining: 3.69s\n",
            "669:\tlearn: 0.1038856\ttotal: 7.48s\tremaining: 3.68s\n",
            "670:\tlearn: 0.1036711\ttotal: 7.49s\tremaining: 3.67s\n",
            "671:\tlearn: 0.1034705\ttotal: 7.5s\tremaining: 3.66s\n",
            "672:\tlearn: 0.1031820\ttotal: 7.51s\tremaining: 3.65s\n",
            "673:\tlearn: 0.1029848\ttotal: 7.52s\tremaining: 3.64s\n",
            "674:\tlearn: 0.1027586\ttotal: 7.53s\tremaining: 3.63s\n",
            "675:\tlearn: 0.1025284\ttotal: 7.55s\tremaining: 3.62s\n",
            "676:\tlearn: 0.1023904\ttotal: 7.56s\tremaining: 3.6s\n",
            "677:\tlearn: 0.1022096\ttotal: 7.57s\tremaining: 3.59s\n",
            "678:\tlearn: 0.1020077\ttotal: 7.58s\tremaining: 3.58s\n",
            "679:\tlearn: 0.1017876\ttotal: 7.59s\tremaining: 3.57s\n",
            "680:\tlearn: 0.1015953\ttotal: 7.6s\tremaining: 3.56s\n",
            "681:\tlearn: 0.1014050\ttotal: 7.62s\tremaining: 3.55s\n",
            "682:\tlearn: 0.1012372\ttotal: 7.63s\tremaining: 3.54s\n",
            "683:\tlearn: 0.1010497\ttotal: 7.66s\tremaining: 3.54s\n",
            "684:\tlearn: 0.1008421\ttotal: 7.67s\tremaining: 3.53s\n",
            "685:\tlearn: 0.1006621\ttotal: 7.68s\tremaining: 3.52s\n",
            "686:\tlearn: 0.1004751\ttotal: 7.69s\tremaining: 3.5s\n",
            "687:\tlearn: 0.1003532\ttotal: 7.71s\tremaining: 3.49s\n",
            "688:\tlearn: 0.1001356\ttotal: 7.72s\tremaining: 3.48s\n",
            "689:\tlearn: 0.0999758\ttotal: 7.73s\tremaining: 3.47s\n",
            "690:\tlearn: 0.0997855\ttotal: 7.74s\tremaining: 3.46s\n",
            "691:\tlearn: 0.0995459\ttotal: 7.75s\tremaining: 3.45s\n",
            "692:\tlearn: 0.0993761\ttotal: 7.76s\tremaining: 3.44s\n",
            "693:\tlearn: 0.0991306\ttotal: 7.78s\tremaining: 3.43s\n",
            "694:\tlearn: 0.0989967\ttotal: 7.79s\tremaining: 3.42s\n",
            "695:\tlearn: 0.0988071\ttotal: 7.8s\tremaining: 3.41s\n",
            "696:\tlearn: 0.0986487\ttotal: 7.81s\tremaining: 3.4s\n",
            "697:\tlearn: 0.0985314\ttotal: 7.82s\tremaining: 3.38s\n",
            "698:\tlearn: 0.0983507\ttotal: 7.83s\tremaining: 3.37s\n",
            "699:\tlearn: 0.0981029\ttotal: 7.84s\tremaining: 3.36s\n",
            "700:\tlearn: 0.0978608\ttotal: 7.86s\tremaining: 3.35s\n",
            "701:\tlearn: 0.0976869\ttotal: 7.88s\tremaining: 3.34s\n",
            "702:\tlearn: 0.0975600\ttotal: 7.89s\tremaining: 3.33s\n",
            "703:\tlearn: 0.0974242\ttotal: 7.9s\tremaining: 3.32s\n",
            "704:\tlearn: 0.0972224\ttotal: 7.91s\tremaining: 3.31s\n",
            "705:\tlearn: 0.0970464\ttotal: 7.92s\tremaining: 3.3s\n",
            "706:\tlearn: 0.0969612\ttotal: 7.93s\tremaining: 3.29s\n",
            "707:\tlearn: 0.0968288\ttotal: 7.95s\tremaining: 3.28s\n",
            "708:\tlearn: 0.0966183\ttotal: 7.97s\tremaining: 3.27s\n",
            "709:\tlearn: 0.0964518\ttotal: 7.99s\tremaining: 3.26s\n",
            "710:\tlearn: 0.0962722\ttotal: 8s\tremaining: 3.25s\n",
            "711:\tlearn: 0.0960965\ttotal: 8.01s\tremaining: 3.24s\n",
            "712:\tlearn: 0.0959278\ttotal: 8.02s\tremaining: 3.23s\n",
            "713:\tlearn: 0.0957515\ttotal: 8.03s\tremaining: 3.22s\n",
            "714:\tlearn: 0.0955698\ttotal: 8.04s\tremaining: 3.21s\n",
            "715:\tlearn: 0.0954080\ttotal: 8.06s\tremaining: 3.19s\n",
            "716:\tlearn: 0.0952573\ttotal: 8.07s\tremaining: 3.19s\n",
            "717:\tlearn: 0.0952086\ttotal: 8.08s\tremaining: 3.17s\n",
            "718:\tlearn: 0.0950729\ttotal: 8.1s\tremaining: 3.16s\n",
            "719:\tlearn: 0.0949053\ttotal: 8.11s\tremaining: 3.15s\n",
            "720:\tlearn: 0.0947569\ttotal: 8.12s\tremaining: 3.14s\n",
            "721:\tlearn: 0.0946266\ttotal: 8.13s\tremaining: 3.13s\n",
            "722:\tlearn: 0.0944509\ttotal: 8.15s\tremaining: 3.12s\n",
            "723:\tlearn: 0.0943567\ttotal: 8.16s\tremaining: 3.11s\n",
            "724:\tlearn: 0.0941763\ttotal: 8.17s\tremaining: 3.1s\n",
            "725:\tlearn: 0.0939795\ttotal: 8.19s\tremaining: 3.09s\n",
            "726:\tlearn: 0.0937492\ttotal: 8.2s\tremaining: 3.08s\n",
            "727:\tlearn: 0.0935698\ttotal: 8.21s\tremaining: 3.07s\n",
            "728:\tlearn: 0.0933929\ttotal: 8.22s\tremaining: 3.06s\n",
            "729:\tlearn: 0.0932564\ttotal: 8.23s\tremaining: 3.04s\n",
            "730:\tlearn: 0.0931245\ttotal: 8.24s\tremaining: 3.03s\n",
            "731:\tlearn: 0.0929854\ttotal: 8.26s\tremaining: 3.02s\n",
            "732:\tlearn: 0.0927964\ttotal: 8.27s\tremaining: 3.01s\n",
            "733:\tlearn: 0.0926340\ttotal: 8.28s\tremaining: 3s\n",
            "734:\tlearn: 0.0924601\ttotal: 8.3s\tremaining: 2.99s\n",
            "735:\tlearn: 0.0922887\ttotal: 8.31s\tremaining: 2.98s\n",
            "736:\tlearn: 0.0921002\ttotal: 8.32s\tremaining: 2.97s\n",
            "737:\tlearn: 0.0920077\ttotal: 8.33s\tremaining: 2.96s\n",
            "738:\tlearn: 0.0918689\ttotal: 8.34s\tremaining: 2.95s\n",
            "739:\tlearn: 0.0917795\ttotal: 8.36s\tremaining: 2.94s\n",
            "740:\tlearn: 0.0915420\ttotal: 8.37s\tremaining: 2.92s\n",
            "741:\tlearn: 0.0913914\ttotal: 8.38s\tremaining: 2.91s\n",
            "742:\tlearn: 0.0912164\ttotal: 8.39s\tremaining: 2.9s\n",
            "743:\tlearn: 0.0911058\ttotal: 8.4s\tremaining: 2.89s\n",
            "744:\tlearn: 0.0910083\ttotal: 8.41s\tremaining: 2.88s\n",
            "745:\tlearn: 0.0908229\ttotal: 8.43s\tremaining: 2.87s\n",
            "746:\tlearn: 0.0906224\ttotal: 8.44s\tremaining: 2.86s\n",
            "747:\tlearn: 0.0905225\ttotal: 8.45s\tremaining: 2.85s\n",
            "748:\tlearn: 0.0903061\ttotal: 8.46s\tremaining: 2.83s\n",
            "749:\tlearn: 0.0901499\ttotal: 8.47s\tremaining: 2.82s\n",
            "750:\tlearn: 0.0899380\ttotal: 8.49s\tremaining: 2.81s\n",
            "751:\tlearn: 0.0897656\ttotal: 8.5s\tremaining: 2.8s\n",
            "752:\tlearn: 0.0895830\ttotal: 8.51s\tremaining: 2.79s\n",
            "753:\tlearn: 0.0894489\ttotal: 8.52s\tremaining: 2.78s\n",
            "754:\tlearn: 0.0893232\ttotal: 8.54s\tremaining: 2.77s\n",
            "755:\tlearn: 0.0892384\ttotal: 8.55s\tremaining: 2.76s\n",
            "756:\tlearn: 0.0891014\ttotal: 8.56s\tremaining: 2.75s\n",
            "757:\tlearn: 0.0889370\ttotal: 8.57s\tremaining: 2.73s\n",
            "758:\tlearn: 0.0887568\ttotal: 8.58s\tremaining: 2.72s\n",
            "759:\tlearn: 0.0885758\ttotal: 8.59s\tremaining: 2.71s\n",
            "760:\tlearn: 0.0884587\ttotal: 8.6s\tremaining: 2.7s\n",
            "761:\tlearn: 0.0882585\ttotal: 8.62s\tremaining: 2.69s\n",
            "762:\tlearn: 0.0881001\ttotal: 8.63s\tremaining: 2.68s\n",
            "763:\tlearn: 0.0879581\ttotal: 8.65s\tremaining: 2.67s\n",
            "764:\tlearn: 0.0877905\ttotal: 8.66s\tremaining: 2.66s\n",
            "765:\tlearn: 0.0876031\ttotal: 8.67s\tremaining: 2.65s\n",
            "766:\tlearn: 0.0874152\ttotal: 8.69s\tremaining: 2.64s\n",
            "767:\tlearn: 0.0873138\ttotal: 8.7s\tremaining: 2.63s\n",
            "768:\tlearn: 0.0871646\ttotal: 8.71s\tremaining: 2.62s\n",
            "769:\tlearn: 0.0870483\ttotal: 8.72s\tremaining: 2.6s\n",
            "770:\tlearn: 0.0869013\ttotal: 8.74s\tremaining: 2.59s\n",
            "771:\tlearn: 0.0866762\ttotal: 8.75s\tremaining: 2.58s\n",
            "772:\tlearn: 0.0864779\ttotal: 8.76s\tremaining: 2.57s\n",
            "773:\tlearn: 0.0862936\ttotal: 8.77s\tremaining: 2.56s\n",
            "774:\tlearn: 0.0861615\ttotal: 8.78s\tremaining: 2.55s\n",
            "775:\tlearn: 0.0859808\ttotal: 8.79s\tremaining: 2.54s\n",
            "776:\tlearn: 0.0858466\ttotal: 8.81s\tremaining: 2.53s\n",
            "777:\tlearn: 0.0857063\ttotal: 8.82s\tremaining: 2.52s\n",
            "778:\tlearn: 0.0855383\ttotal: 8.83s\tremaining: 2.5s\n",
            "779:\tlearn: 0.0853840\ttotal: 8.84s\tremaining: 2.49s\n",
            "780:\tlearn: 0.0852118\ttotal: 8.85s\tremaining: 2.48s\n",
            "781:\tlearn: 0.0850665\ttotal: 8.86s\tremaining: 2.47s\n",
            "782:\tlearn: 0.0849153\ttotal: 8.88s\tremaining: 2.46s\n",
            "783:\tlearn: 0.0847147\ttotal: 8.9s\tremaining: 2.45s\n",
            "784:\tlearn: 0.0845298\ttotal: 8.92s\tremaining: 2.44s\n",
            "785:\tlearn: 0.0843724\ttotal: 8.94s\tremaining: 2.43s\n",
            "786:\tlearn: 0.0842071\ttotal: 8.96s\tremaining: 2.42s\n",
            "787:\tlearn: 0.0840766\ttotal: 8.98s\tremaining: 2.42s\n",
            "788:\tlearn: 0.0839184\ttotal: 8.99s\tremaining: 2.4s\n",
            "789:\tlearn: 0.0837744\ttotal: 9.01s\tremaining: 2.39s\n",
            "790:\tlearn: 0.0837010\ttotal: 9.02s\tremaining: 2.38s\n",
            "791:\tlearn: 0.0835401\ttotal: 9.03s\tremaining: 2.37s\n",
            "792:\tlearn: 0.0833709\ttotal: 9.04s\tremaining: 2.36s\n",
            "793:\tlearn: 0.0832118\ttotal: 9.05s\tremaining: 2.35s\n",
            "794:\tlearn: 0.0830282\ttotal: 9.07s\tremaining: 2.34s\n",
            "795:\tlearn: 0.0828907\ttotal: 9.08s\tremaining: 2.33s\n",
            "796:\tlearn: 0.0827584\ttotal: 9.09s\tremaining: 2.31s\n",
            "797:\tlearn: 0.0826368\ttotal: 9.11s\tremaining: 2.31s\n",
            "798:\tlearn: 0.0825078\ttotal: 9.12s\tremaining: 2.29s\n",
            "799:\tlearn: 0.0823976\ttotal: 9.13s\tremaining: 2.28s\n",
            "800:\tlearn: 0.0822654\ttotal: 9.14s\tremaining: 2.27s\n",
            "801:\tlearn: 0.0821984\ttotal: 9.15s\tremaining: 2.26s\n",
            "802:\tlearn: 0.0820509\ttotal: 9.16s\tremaining: 2.25s\n",
            "803:\tlearn: 0.0819235\ttotal: 9.18s\tremaining: 2.24s\n",
            "804:\tlearn: 0.0817656\ttotal: 9.19s\tremaining: 2.23s\n",
            "805:\tlearn: 0.0816047\ttotal: 9.2s\tremaining: 2.21s\n",
            "806:\tlearn: 0.0814806\ttotal: 9.21s\tremaining: 2.2s\n",
            "807:\tlearn: 0.0813328\ttotal: 9.22s\tremaining: 2.19s\n",
            "808:\tlearn: 0.0811330\ttotal: 9.23s\tremaining: 2.18s\n",
            "809:\tlearn: 0.0809810\ttotal: 9.25s\tremaining: 2.17s\n",
            "810:\tlearn: 0.0808612\ttotal: 9.26s\tremaining: 2.16s\n",
            "811:\tlearn: 0.0807924\ttotal: 9.27s\tremaining: 2.15s\n",
            "812:\tlearn: 0.0806897\ttotal: 9.28s\tremaining: 2.13s\n",
            "813:\tlearn: 0.0805243\ttotal: 9.29s\tremaining: 2.12s\n",
            "814:\tlearn: 0.0803810\ttotal: 9.31s\tremaining: 2.11s\n",
            "815:\tlearn: 0.0802286\ttotal: 9.32s\tremaining: 2.1s\n",
            "816:\tlearn: 0.0801682\ttotal: 9.33s\tremaining: 2.09s\n",
            "817:\tlearn: 0.0800016\ttotal: 9.35s\tremaining: 2.08s\n",
            "818:\tlearn: 0.0799343\ttotal: 9.36s\tremaining: 2.07s\n",
            "819:\tlearn: 0.0797780\ttotal: 9.37s\tremaining: 2.06s\n",
            "820:\tlearn: 0.0796539\ttotal: 9.38s\tremaining: 2.04s\n",
            "821:\tlearn: 0.0794871\ttotal: 9.39s\tremaining: 2.03s\n",
            "822:\tlearn: 0.0794152\ttotal: 9.4s\tremaining: 2.02s\n",
            "823:\tlearn: 0.0792878\ttotal: 9.42s\tremaining: 2.01s\n",
            "824:\tlearn: 0.0791735\ttotal: 9.43s\tremaining: 2s\n",
            "825:\tlearn: 0.0790231\ttotal: 9.44s\tremaining: 1.99s\n",
            "826:\tlearn: 0.0788361\ttotal: 9.45s\tremaining: 1.98s\n",
            "827:\tlearn: 0.0786498\ttotal: 9.47s\tremaining: 1.97s\n",
            "828:\tlearn: 0.0785984\ttotal: 9.48s\tremaining: 1.95s\n",
            "829:\tlearn: 0.0784634\ttotal: 9.49s\tremaining: 1.94s\n",
            "830:\tlearn: 0.0783287\ttotal: 9.5s\tremaining: 1.93s\n",
            "831:\tlearn: 0.0781988\ttotal: 9.52s\tremaining: 1.92s\n",
            "832:\tlearn: 0.0780629\ttotal: 9.53s\tremaining: 1.91s\n",
            "833:\tlearn: 0.0779120\ttotal: 9.54s\tremaining: 1.9s\n",
            "834:\tlearn: 0.0777697\ttotal: 9.55s\tremaining: 1.89s\n",
            "835:\tlearn: 0.0776183\ttotal: 9.57s\tremaining: 1.88s\n",
            "836:\tlearn: 0.0774905\ttotal: 9.58s\tremaining: 1.86s\n",
            "837:\tlearn: 0.0773965\ttotal: 9.59s\tremaining: 1.85s\n",
            "838:\tlearn: 0.0773349\ttotal: 9.6s\tremaining: 1.84s\n",
            "839:\tlearn: 0.0772438\ttotal: 9.61s\tremaining: 1.83s\n",
            "840:\tlearn: 0.0771820\ttotal: 9.63s\tremaining: 1.82s\n",
            "841:\tlearn: 0.0770310\ttotal: 9.64s\tremaining: 1.81s\n",
            "842:\tlearn: 0.0768594\ttotal: 9.65s\tremaining: 1.8s\n",
            "843:\tlearn: 0.0766855\ttotal: 9.66s\tremaining: 1.78s\n",
            "844:\tlearn: 0.0765906\ttotal: 9.67s\tremaining: 1.77s\n",
            "845:\tlearn: 0.0764695\ttotal: 9.68s\tremaining: 1.76s\n",
            "846:\tlearn: 0.0763216\ttotal: 9.7s\tremaining: 1.75s\n",
            "847:\tlearn: 0.0762647\ttotal: 9.71s\tremaining: 1.74s\n",
            "848:\tlearn: 0.0760848\ttotal: 9.73s\tremaining: 1.73s\n",
            "849:\tlearn: 0.0759472\ttotal: 9.74s\tremaining: 1.72s\n",
            "850:\tlearn: 0.0758193\ttotal: 9.75s\tremaining: 1.71s\n",
            "851:\tlearn: 0.0756986\ttotal: 9.76s\tremaining: 1.7s\n",
            "852:\tlearn: 0.0756099\ttotal: 9.77s\tremaining: 1.68s\n",
            "853:\tlearn: 0.0754866\ttotal: 9.79s\tremaining: 1.67s\n",
            "854:\tlearn: 0.0754327\ttotal: 9.8s\tremaining: 1.66s\n",
            "855:\tlearn: 0.0752672\ttotal: 9.81s\tremaining: 1.65s\n",
            "856:\tlearn: 0.0751672\ttotal: 9.82s\tremaining: 1.64s\n",
            "857:\tlearn: 0.0750194\ttotal: 9.84s\tremaining: 1.63s\n",
            "858:\tlearn: 0.0749576\ttotal: 9.85s\tremaining: 1.62s\n",
            "859:\tlearn: 0.0748588\ttotal: 9.86s\tremaining: 1.6s\n",
            "860:\tlearn: 0.0747617\ttotal: 9.87s\tremaining: 1.59s\n",
            "861:\tlearn: 0.0746719\ttotal: 9.88s\tremaining: 1.58s\n",
            "862:\tlearn: 0.0745555\ttotal: 9.9s\tremaining: 1.57s\n",
            "863:\tlearn: 0.0744624\ttotal: 9.91s\tremaining: 1.56s\n",
            "864:\tlearn: 0.0743189\ttotal: 9.92s\tremaining: 1.55s\n",
            "865:\tlearn: 0.0741963\ttotal: 9.94s\tremaining: 1.54s\n",
            "866:\tlearn: 0.0741634\ttotal: 9.95s\tremaining: 1.53s\n",
            "867:\tlearn: 0.0740131\ttotal: 9.97s\tremaining: 1.52s\n",
            "868:\tlearn: 0.0738952\ttotal: 9.99s\tremaining: 1.51s\n",
            "869:\tlearn: 0.0737812\ttotal: 10s\tremaining: 1.49s\n",
            "870:\tlearn: 0.0736531\ttotal: 10s\tremaining: 1.48s\n",
            "871:\tlearn: 0.0734750\ttotal: 10s\tremaining: 1.47s\n",
            "872:\tlearn: 0.0733295\ttotal: 10s\tremaining: 1.46s\n",
            "873:\tlearn: 0.0732048\ttotal: 10.1s\tremaining: 1.45s\n",
            "874:\tlearn: 0.0730698\ttotal: 10.1s\tremaining: 1.44s\n",
            "875:\tlearn: 0.0729069\ttotal: 10.1s\tremaining: 1.43s\n",
            "876:\tlearn: 0.0728118\ttotal: 10.1s\tremaining: 1.41s\n",
            "877:\tlearn: 0.0727457\ttotal: 10.1s\tremaining: 1.4s\n",
            "878:\tlearn: 0.0726275\ttotal: 10.1s\tremaining: 1.39s\n",
            "879:\tlearn: 0.0724643\ttotal: 10.1s\tremaining: 1.38s\n",
            "880:\tlearn: 0.0723121\ttotal: 10.1s\tremaining: 1.37s\n",
            "881:\tlearn: 0.0721794\ttotal: 10.2s\tremaining: 1.36s\n",
            "882:\tlearn: 0.0720662\ttotal: 10.2s\tremaining: 1.35s\n",
            "883:\tlearn: 0.0719517\ttotal: 10.2s\tremaining: 1.33s\n",
            "884:\tlearn: 0.0718714\ttotal: 10.2s\tremaining: 1.32s\n",
            "885:\tlearn: 0.0717387\ttotal: 10.2s\tremaining: 1.31s\n",
            "886:\tlearn: 0.0716228\ttotal: 10.2s\tremaining: 1.3s\n",
            "887:\tlearn: 0.0715715\ttotal: 10.2s\tremaining: 1.29s\n",
            "888:\tlearn: 0.0714122\ttotal: 10.2s\tremaining: 1.28s\n",
            "889:\tlearn: 0.0713227\ttotal: 10.3s\tremaining: 1.27s\n",
            "890:\tlearn: 0.0712352\ttotal: 10.3s\tremaining: 1.25s\n",
            "891:\tlearn: 0.0711809\ttotal: 10.3s\tremaining: 1.24s\n",
            "892:\tlearn: 0.0710497\ttotal: 10.3s\tremaining: 1.23s\n",
            "893:\tlearn: 0.0709351\ttotal: 10.3s\tremaining: 1.22s\n",
            "894:\tlearn: 0.0708289\ttotal: 10.3s\tremaining: 1.21s\n",
            "895:\tlearn: 0.0707469\ttotal: 10.3s\tremaining: 1.2s\n",
            "896:\tlearn: 0.0705861\ttotal: 10.3s\tremaining: 1.19s\n",
            "897:\tlearn: 0.0704447\ttotal: 10.4s\tremaining: 1.18s\n",
            "898:\tlearn: 0.0703568\ttotal: 10.4s\tremaining: 1.16s\n",
            "899:\tlearn: 0.0702215\ttotal: 10.4s\tremaining: 1.15s\n",
            "900:\tlearn: 0.0701175\ttotal: 10.4s\tremaining: 1.14s\n",
            "901:\tlearn: 0.0700315\ttotal: 10.4s\tremaining: 1.13s\n",
            "902:\tlearn: 0.0699068\ttotal: 10.4s\tremaining: 1.12s\n",
            "903:\tlearn: 0.0698129\ttotal: 10.4s\tremaining: 1.11s\n",
            "904:\tlearn: 0.0697458\ttotal: 10.4s\tremaining: 1.09s\n",
            "905:\tlearn: 0.0696509\ttotal: 10.4s\tremaining: 1.08s\n",
            "906:\tlearn: 0.0695266\ttotal: 10.5s\tremaining: 1.07s\n",
            "907:\tlearn: 0.0694686\ttotal: 10.5s\tremaining: 1.06s\n",
            "908:\tlearn: 0.0693828\ttotal: 10.5s\tremaining: 1.05s\n",
            "909:\tlearn: 0.0692526\ttotal: 10.5s\tremaining: 1.04s\n",
            "910:\tlearn: 0.0691455\ttotal: 10.5s\tremaining: 1.03s\n",
            "911:\tlearn: 0.0690517\ttotal: 10.5s\tremaining: 1.01s\n",
            "912:\tlearn: 0.0689560\ttotal: 10.5s\tremaining: 1s\n",
            "913:\tlearn: 0.0688182\ttotal: 10.6s\tremaining: 993ms\n",
            "914:\tlearn: 0.0687583\ttotal: 10.6s\tremaining: 981ms\n",
            "915:\tlearn: 0.0686174\ttotal: 10.6s\tremaining: 970ms\n",
            "916:\tlearn: 0.0685175\ttotal: 10.6s\tremaining: 958ms\n",
            "917:\tlearn: 0.0684395\ttotal: 10.6s\tremaining: 947ms\n",
            "918:\tlearn: 0.0683309\ttotal: 10.6s\tremaining: 935ms\n",
            "919:\tlearn: 0.0682140\ttotal: 10.6s\tremaining: 924ms\n",
            "920:\tlearn: 0.0681029\ttotal: 10.6s\tremaining: 912ms\n",
            "921:\tlearn: 0.0680143\ttotal: 10.6s\tremaining: 901ms\n",
            "922:\tlearn: 0.0678897\ttotal: 10.7s\tremaining: 889ms\n",
            "923:\tlearn: 0.0677797\ttotal: 10.7s\tremaining: 878ms\n",
            "924:\tlearn: 0.0676896\ttotal: 10.7s\tremaining: 866ms\n",
            "925:\tlearn: 0.0675709\ttotal: 10.7s\tremaining: 854ms\n",
            "926:\tlearn: 0.0674674\ttotal: 10.7s\tremaining: 844ms\n",
            "927:\tlearn: 0.0673399\ttotal: 10.7s\tremaining: 832ms\n",
            "928:\tlearn: 0.0672801\ttotal: 10.7s\tremaining: 821ms\n",
            "929:\tlearn: 0.0671888\ttotal: 10.7s\tremaining: 809ms\n",
            "930:\tlearn: 0.0670809\ttotal: 10.8s\tremaining: 797ms\n",
            "931:\tlearn: 0.0670325\ttotal: 10.8s\tremaining: 786ms\n",
            "932:\tlearn: 0.0669376\ttotal: 10.8s\tremaining: 774ms\n",
            "933:\tlearn: 0.0668247\ttotal: 10.8s\tremaining: 763ms\n",
            "934:\tlearn: 0.0667398\ttotal: 10.8s\tremaining: 751ms\n",
            "935:\tlearn: 0.0665993\ttotal: 10.8s\tremaining: 740ms\n",
            "936:\tlearn: 0.0664519\ttotal: 10.8s\tremaining: 728ms\n",
            "937:\tlearn: 0.0663678\ttotal: 10.8s\tremaining: 717ms\n",
            "938:\tlearn: 0.0662598\ttotal: 10.9s\tremaining: 705ms\n",
            "939:\tlearn: 0.0661568\ttotal: 10.9s\tremaining: 694ms\n",
            "940:\tlearn: 0.0660472\ttotal: 10.9s\tremaining: 682ms\n",
            "941:\tlearn: 0.0659091\ttotal: 10.9s\tremaining: 671ms\n",
            "942:\tlearn: 0.0658544\ttotal: 10.9s\tremaining: 659ms\n",
            "943:\tlearn: 0.0656985\ttotal: 10.9s\tremaining: 648ms\n",
            "944:\tlearn: 0.0656572\ttotal: 10.9s\tremaining: 636ms\n",
            "945:\tlearn: 0.0655432\ttotal: 10.9s\tremaining: 625ms\n",
            "946:\tlearn: 0.0654304\ttotal: 11s\tremaining: 613ms\n",
            "947:\tlearn: 0.0653075\ttotal: 11s\tremaining: 602ms\n",
            "948:\tlearn: 0.0652419\ttotal: 11s\tremaining: 591ms\n",
            "949:\tlearn: 0.0651639\ttotal: 11s\tremaining: 580ms\n",
            "950:\tlearn: 0.0650789\ttotal: 11s\tremaining: 568ms\n",
            "951:\tlearn: 0.0649503\ttotal: 11s\tremaining: 556ms\n",
            "952:\tlearn: 0.0648879\ttotal: 11s\tremaining: 545ms\n",
            "953:\tlearn: 0.0647651\ttotal: 11.1s\tremaining: 533ms\n",
            "954:\tlearn: 0.0646158\ttotal: 11.1s\tremaining: 522ms\n",
            "955:\tlearn: 0.0644937\ttotal: 11.1s\tremaining: 510ms\n",
            "956:\tlearn: 0.0643577\ttotal: 11.1s\tremaining: 499ms\n",
            "957:\tlearn: 0.0643113\ttotal: 11.1s\tremaining: 487ms\n",
            "958:\tlearn: 0.0641713\ttotal: 11.1s\tremaining: 475ms\n",
            "959:\tlearn: 0.0640808\ttotal: 11.1s\tremaining: 464ms\n",
            "960:\tlearn: 0.0639733\ttotal: 11.1s\tremaining: 452ms\n",
            "961:\tlearn: 0.0638892\ttotal: 11.2s\tremaining: 441ms\n",
            "962:\tlearn: 0.0638009\ttotal: 11.2s\tremaining: 429ms\n",
            "963:\tlearn: 0.0636813\ttotal: 11.2s\tremaining: 418ms\n",
            "964:\tlearn: 0.0635702\ttotal: 11.2s\tremaining: 406ms\n",
            "965:\tlearn: 0.0634583\ttotal: 11.2s\tremaining: 395ms\n",
            "966:\tlearn: 0.0633773\ttotal: 11.2s\tremaining: 383ms\n",
            "967:\tlearn: 0.0632691\ttotal: 11.2s\tremaining: 371ms\n",
            "968:\tlearn: 0.0631438\ttotal: 11.2s\tremaining: 360ms\n",
            "969:\tlearn: 0.0630602\ttotal: 11.3s\tremaining: 348ms\n",
            "970:\tlearn: 0.0629406\ttotal: 11.3s\tremaining: 337ms\n",
            "971:\tlearn: 0.0628257\ttotal: 11.3s\tremaining: 325ms\n",
            "972:\tlearn: 0.0627669\ttotal: 11.3s\tremaining: 313ms\n",
            "973:\tlearn: 0.0626415\ttotal: 11.3s\tremaining: 302ms\n",
            "974:\tlearn: 0.0626043\ttotal: 11.3s\tremaining: 290ms\n",
            "975:\tlearn: 0.0625720\ttotal: 11.3s\tremaining: 279ms\n",
            "976:\tlearn: 0.0624943\ttotal: 11.3s\tremaining: 267ms\n",
            "977:\tlearn: 0.0623948\ttotal: 11.4s\tremaining: 255ms\n",
            "978:\tlearn: 0.0622989\ttotal: 11.4s\tremaining: 244ms\n",
            "979:\tlearn: 0.0621960\ttotal: 11.4s\tremaining: 232ms\n",
            "980:\tlearn: 0.0620992\ttotal: 11.4s\tremaining: 221ms\n",
            "981:\tlearn: 0.0620604\ttotal: 11.4s\tremaining: 209ms\n",
            "982:\tlearn: 0.0620161\ttotal: 11.4s\tremaining: 197ms\n",
            "983:\tlearn: 0.0619187\ttotal: 11.4s\tremaining: 186ms\n",
            "984:\tlearn: 0.0618658\ttotal: 11.4s\tremaining: 174ms\n",
            "985:\tlearn: 0.0617747\ttotal: 11.5s\tremaining: 163ms\n",
            "986:\tlearn: 0.0616792\ttotal: 11.5s\tremaining: 151ms\n",
            "987:\tlearn: 0.0616146\ttotal: 11.5s\tremaining: 139ms\n",
            "988:\tlearn: 0.0615754\ttotal: 11.5s\tremaining: 128ms\n",
            "989:\tlearn: 0.0614513\ttotal: 11.5s\tremaining: 116ms\n",
            "990:\tlearn: 0.0613432\ttotal: 11.5s\tremaining: 105ms\n",
            "991:\tlearn: 0.0612517\ttotal: 11.5s\tremaining: 92.9ms\n",
            "992:\tlearn: 0.0612244\ttotal: 11.5s\tremaining: 81.3ms\n",
            "993:\tlearn: 0.0611503\ttotal: 11.5s\tremaining: 69.7ms\n",
            "994:\tlearn: 0.0610417\ttotal: 11.6s\tremaining: 58.1ms\n",
            "995:\tlearn: 0.0609593\ttotal: 11.6s\tremaining: 46.5ms\n",
            "996:\tlearn: 0.0608350\ttotal: 11.6s\tremaining: 34.9ms\n",
            "997:\tlearn: 0.0607322\ttotal: 11.6s\tremaining: 23.3ms\n",
            "998:\tlearn: 0.0606549\ttotal: 11.6s\tremaining: 11.6ms\n",
            "999:\tlearn: 0.0605281\ttotal: 11.6s\tremaining: 0us\n"
          ],
          "name": "stdout"
        },
        {
          "output_type": "execute_result",
          "data": {
            "text/plain": [
              "<catboost.core.CatBoostClassifier at 0x7f0c101b7828>"
            ]
          },
          "metadata": {
            "tags": []
          },
          "execution_count": 46
        }
      ]
    },
    {
      "cell_type": "code",
      "metadata": {
        "colab_type": "code",
        "id": "HEhxDz_Yl7We",
        "outputId": "d6d427e7-f880-45ce-c4b2-fda25fa723e7",
        "colab": {
          "base_uri": "https://localhost:8080/",
          "height": 34
        }
      },
      "source": [
        "clf.predict(pred_x[10030])"
      ],
      "execution_count": 64,
      "outputs": [
        {
          "output_type": "execute_result",
          "data": {
            "text/plain": [
              "array([['The_Show_Must_Go_On']], dtype='<U19')"
            ]
          },
          "metadata": {
            "tags": []
          },
          "execution_count": 64
        }
      ]
    },
    {
      "cell_type": "code",
      "metadata": {
        "id": "fhw0tP4VV7DU",
        "colab_type": "code",
        "colab": {
          "base_uri": "https://localhost:8080/",
          "height": 34
        },
        "outputId": "6206f13d-72f6-4058-fd37-1fd4aac10c13"
      },
      "source": [
        "clf.predict_proba(pred_x[10030])# The_Show_Must_Go_On We_Are_The_Champions We_Will_Rock_You none"
      ],
      "execution_count": 65,
      "outputs": [
        {
          "output_type": "execute_result",
          "data": {
            "text/plain": [
              "array([[9.74653131e-01, 1.46841619e-02, 1.06369882e-02, 2.57186939e-05]])"
            ]
          },
          "metadata": {
            "tags": []
          },
          "execution_count": 65
        }
      ]
    },
    {
      "cell_type": "code",
      "metadata": {
        "colab_type": "code",
        "id": "C2a3z_d_nCgU",
        "outputId": "27686a57-f170-4ae4-8e28-b0c5e25a96b7",
        "colab": {
          "base_uri": "https://localhost:8080/",
          "height": 34
        }
      },
      "source": [
        "from sklearn.metrics import accuracy_score\n",
        "print(accuracy_score(labels, clf.predict(pred_x)))"
      ],
      "execution_count": 48,
      "outputs": [
        {
          "output_type": "stream",
          "text": [
            "0.9978712920074899\n"
          ],
          "name": "stdout"
        }
      ]
    },
    {
      "cell_type": "code",
      "metadata": {
        "colab_type": "code",
        "id": "RXML5SmLndYH",
        "colab": {}
      },
      "source": [
        "clf.save_model(\"catboost_decoder_12000_1.catboost\")"
      ],
      "execution_count": 0,
      "outputs": []
    },
    {
      "cell_type": "code",
      "metadata": {
        "colab_type": "code",
        "id": "NXzi2o3znpF7",
        "colab": {}
      },
      "source": [
        ""
      ],
      "execution_count": 0,
      "outputs": []
    }
  ]
}